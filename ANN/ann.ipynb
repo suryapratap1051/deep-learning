{
 "cells": [
  {
   "cell_type": "markdown",
   "id": "9a4d712d",
   "metadata": {},
   "source": [
    "# Part1: Data Pre-processing"
   ]
  },
  {
   "cell_type": "code",
   "execution_count": 1,
   "id": "8a2f080a",
   "metadata": {},
   "outputs": [],
   "source": [
    "import numpy as np  \n",
    "import matplotlib.pyplot as plt  \n",
    "import pandas as pd  "
   ]
  },
  {
   "cell_type": "code",
   "execution_count": 2,
   "id": "f12cc350",
   "metadata": {},
   "outputs": [],
   "source": [
    "dataset=pd.read_csv(\"C:\\\\Users\\\\surya\\\\Downloads\\\\data-set\\\\Churn_Modelling.csv\")  "
   ]
  },
  {
   "cell_type": "code",
   "execution_count": 3,
   "id": "72bc85d1",
   "metadata": {},
   "outputs": [
    {
     "data": {
      "text/html": [
       "<div>\n",
       "<style scoped>\n",
       "    .dataframe tbody tr th:only-of-type {\n",
       "        vertical-align: middle;\n",
       "    }\n",
       "\n",
       "    .dataframe tbody tr th {\n",
       "        vertical-align: top;\n",
       "    }\n",
       "\n",
       "    .dataframe thead th {\n",
       "        text-align: right;\n",
       "    }\n",
       "</style>\n",
       "<table border=\"1\" class=\"dataframe\">\n",
       "  <thead>\n",
       "    <tr style=\"text-align: right;\">\n",
       "      <th></th>\n",
       "      <th>RowNumber</th>\n",
       "      <th>CustomerId</th>\n",
       "      <th>Surname</th>\n",
       "      <th>CreditScore</th>\n",
       "      <th>Geography</th>\n",
       "      <th>Gender</th>\n",
       "      <th>Age</th>\n",
       "      <th>Tenure</th>\n",
       "      <th>Balance</th>\n",
       "      <th>NumOfProducts</th>\n",
       "      <th>HasCrCard</th>\n",
       "      <th>IsActiveMember</th>\n",
       "      <th>EstimatedSalary</th>\n",
       "      <th>Exited</th>\n",
       "    </tr>\n",
       "  </thead>\n",
       "  <tbody>\n",
       "    <tr>\n",
       "      <th>0</th>\n",
       "      <td>1</td>\n",
       "      <td>15634602</td>\n",
       "      <td>Hargrave</td>\n",
       "      <td>619</td>\n",
       "      <td>France</td>\n",
       "      <td>Female</td>\n",
       "      <td>42</td>\n",
       "      <td>2</td>\n",
       "      <td>0.00</td>\n",
       "      <td>1</td>\n",
       "      <td>1</td>\n",
       "      <td>1</td>\n",
       "      <td>101348.88</td>\n",
       "      <td>1</td>\n",
       "    </tr>\n",
       "    <tr>\n",
       "      <th>1</th>\n",
       "      <td>2</td>\n",
       "      <td>15647311</td>\n",
       "      <td>Hill</td>\n",
       "      <td>608</td>\n",
       "      <td>Spain</td>\n",
       "      <td>Female</td>\n",
       "      <td>41</td>\n",
       "      <td>1</td>\n",
       "      <td>83807.86</td>\n",
       "      <td>1</td>\n",
       "      <td>0</td>\n",
       "      <td>1</td>\n",
       "      <td>112542.58</td>\n",
       "      <td>0</td>\n",
       "    </tr>\n",
       "    <tr>\n",
       "      <th>2</th>\n",
       "      <td>3</td>\n",
       "      <td>15619304</td>\n",
       "      <td>Onio</td>\n",
       "      <td>502</td>\n",
       "      <td>France</td>\n",
       "      <td>Female</td>\n",
       "      <td>42</td>\n",
       "      <td>8</td>\n",
       "      <td>159660.80</td>\n",
       "      <td>3</td>\n",
       "      <td>1</td>\n",
       "      <td>0</td>\n",
       "      <td>113931.57</td>\n",
       "      <td>1</td>\n",
       "    </tr>\n",
       "    <tr>\n",
       "      <th>3</th>\n",
       "      <td>4</td>\n",
       "      <td>15701354</td>\n",
       "      <td>Boni</td>\n",
       "      <td>699</td>\n",
       "      <td>France</td>\n",
       "      <td>Female</td>\n",
       "      <td>39</td>\n",
       "      <td>1</td>\n",
       "      <td>0.00</td>\n",
       "      <td>2</td>\n",
       "      <td>0</td>\n",
       "      <td>0</td>\n",
       "      <td>93826.63</td>\n",
       "      <td>0</td>\n",
       "    </tr>\n",
       "    <tr>\n",
       "      <th>4</th>\n",
       "      <td>5</td>\n",
       "      <td>15737888</td>\n",
       "      <td>Mitchell</td>\n",
       "      <td>850</td>\n",
       "      <td>Spain</td>\n",
       "      <td>Female</td>\n",
       "      <td>43</td>\n",
       "      <td>2</td>\n",
       "      <td>125510.82</td>\n",
       "      <td>1</td>\n",
       "      <td>1</td>\n",
       "      <td>1</td>\n",
       "      <td>79084.10</td>\n",
       "      <td>0</td>\n",
       "    </tr>\n",
       "    <tr>\n",
       "      <th>...</th>\n",
       "      <td>...</td>\n",
       "      <td>...</td>\n",
       "      <td>...</td>\n",
       "      <td>...</td>\n",
       "      <td>...</td>\n",
       "      <td>...</td>\n",
       "      <td>...</td>\n",
       "      <td>...</td>\n",
       "      <td>...</td>\n",
       "      <td>...</td>\n",
       "      <td>...</td>\n",
       "      <td>...</td>\n",
       "      <td>...</td>\n",
       "      <td>...</td>\n",
       "    </tr>\n",
       "    <tr>\n",
       "      <th>9995</th>\n",
       "      <td>9996</td>\n",
       "      <td>15606229</td>\n",
       "      <td>Obijiaku</td>\n",
       "      <td>771</td>\n",
       "      <td>France</td>\n",
       "      <td>Male</td>\n",
       "      <td>39</td>\n",
       "      <td>5</td>\n",
       "      <td>0.00</td>\n",
       "      <td>2</td>\n",
       "      <td>1</td>\n",
       "      <td>0</td>\n",
       "      <td>96270.64</td>\n",
       "      <td>0</td>\n",
       "    </tr>\n",
       "    <tr>\n",
       "      <th>9996</th>\n",
       "      <td>9997</td>\n",
       "      <td>15569892</td>\n",
       "      <td>Johnstone</td>\n",
       "      <td>516</td>\n",
       "      <td>France</td>\n",
       "      <td>Male</td>\n",
       "      <td>35</td>\n",
       "      <td>10</td>\n",
       "      <td>57369.61</td>\n",
       "      <td>1</td>\n",
       "      <td>1</td>\n",
       "      <td>1</td>\n",
       "      <td>101699.77</td>\n",
       "      <td>0</td>\n",
       "    </tr>\n",
       "    <tr>\n",
       "      <th>9997</th>\n",
       "      <td>9998</td>\n",
       "      <td>15584532</td>\n",
       "      <td>Liu</td>\n",
       "      <td>709</td>\n",
       "      <td>France</td>\n",
       "      <td>Female</td>\n",
       "      <td>36</td>\n",
       "      <td>7</td>\n",
       "      <td>0.00</td>\n",
       "      <td>1</td>\n",
       "      <td>0</td>\n",
       "      <td>1</td>\n",
       "      <td>42085.58</td>\n",
       "      <td>1</td>\n",
       "    </tr>\n",
       "    <tr>\n",
       "      <th>9998</th>\n",
       "      <td>9999</td>\n",
       "      <td>15682355</td>\n",
       "      <td>Sabbatini</td>\n",
       "      <td>772</td>\n",
       "      <td>Germany</td>\n",
       "      <td>Male</td>\n",
       "      <td>42</td>\n",
       "      <td>3</td>\n",
       "      <td>75075.31</td>\n",
       "      <td>2</td>\n",
       "      <td>1</td>\n",
       "      <td>0</td>\n",
       "      <td>92888.52</td>\n",
       "      <td>1</td>\n",
       "    </tr>\n",
       "    <tr>\n",
       "      <th>9999</th>\n",
       "      <td>10000</td>\n",
       "      <td>15628319</td>\n",
       "      <td>Walker</td>\n",
       "      <td>792</td>\n",
       "      <td>France</td>\n",
       "      <td>Female</td>\n",
       "      <td>28</td>\n",
       "      <td>4</td>\n",
       "      <td>130142.79</td>\n",
       "      <td>1</td>\n",
       "      <td>1</td>\n",
       "      <td>0</td>\n",
       "      <td>38190.78</td>\n",
       "      <td>0</td>\n",
       "    </tr>\n",
       "  </tbody>\n",
       "</table>\n",
       "<p>10000 rows × 14 columns</p>\n",
       "</div>"
      ],
      "text/plain": [
       "      RowNumber  CustomerId    Surname  CreditScore Geography  Gender  Age  \\\n",
       "0             1    15634602   Hargrave          619    France  Female   42   \n",
       "1             2    15647311       Hill          608     Spain  Female   41   \n",
       "2             3    15619304       Onio          502    France  Female   42   \n",
       "3             4    15701354       Boni          699    France  Female   39   \n",
       "4             5    15737888   Mitchell          850     Spain  Female   43   \n",
       "...         ...         ...        ...          ...       ...     ...  ...   \n",
       "9995       9996    15606229   Obijiaku          771    France    Male   39   \n",
       "9996       9997    15569892  Johnstone          516    France    Male   35   \n",
       "9997       9998    15584532        Liu          709    France  Female   36   \n",
       "9998       9999    15682355  Sabbatini          772   Germany    Male   42   \n",
       "9999      10000    15628319     Walker          792    France  Female   28   \n",
       "\n",
       "      Tenure    Balance  NumOfProducts  HasCrCard  IsActiveMember  \\\n",
       "0          2       0.00              1          1               1   \n",
       "1          1   83807.86              1          0               1   \n",
       "2          8  159660.80              3          1               0   \n",
       "3          1       0.00              2          0               0   \n",
       "4          2  125510.82              1          1               1   \n",
       "...      ...        ...            ...        ...             ...   \n",
       "9995       5       0.00              2          1               0   \n",
       "9996      10   57369.61              1          1               1   \n",
       "9997       7       0.00              1          0               1   \n",
       "9998       3   75075.31              2          1               0   \n",
       "9999       4  130142.79              1          1               0   \n",
       "\n",
       "      EstimatedSalary  Exited  \n",
       "0           101348.88       1  \n",
       "1           112542.58       0  \n",
       "2           113931.57       1  \n",
       "3            93826.63       0  \n",
       "4            79084.10       0  \n",
       "...               ...     ...  \n",
       "9995         96270.64       0  \n",
       "9996        101699.77       0  \n",
       "9997         42085.58       1  \n",
       "9998         92888.52       1  \n",
       "9999         38190.78       0  \n",
       "\n",
       "[10000 rows x 14 columns]"
      ]
     },
     "execution_count": 3,
     "metadata": {},
     "output_type": "execute_result"
    }
   ],
   "source": [
    "dataset"
   ]
  },
  {
   "cell_type": "code",
   "execution_count": 5,
   "id": "e24375b4",
   "metadata": {},
   "outputs": [
    {
     "data": {
      "text/plain": [
       "(10000, 14)"
      ]
     },
     "execution_count": 5,
     "metadata": {},
     "output_type": "execute_result"
    }
   ],
   "source": [
    "dataset.shape"
   ]
  },
  {
   "cell_type": "code",
   "execution_count": 6,
   "id": "50dbfd52",
   "metadata": {},
   "outputs": [],
   "source": [
    "X=dataset.iloc[:, 3:13].values  "
   ]
  },
  {
   "cell_type": "code",
   "execution_count": 16,
   "id": "b2ec156c",
   "metadata": {},
   "outputs": [],
   "source": [
    "y=dataset.iloc[:, 13].values  "
   ]
  },
  {
   "cell_type": "code",
   "execution_count": 17,
   "id": "3f95fde8",
   "metadata": {},
   "outputs": [
    {
     "data": {
      "text/plain": [
       "array([[228, 'France', 'Female', ..., 1, 1, 101348.88],\n",
       "       [217, 'Spain', 'Female', ..., 0, 1, 112542.58],\n",
       "       [111, 'France', 'Female', ..., 1, 0, 113931.57],\n",
       "       ...,\n",
       "       [318, 'France', 'Female', ..., 0, 1, 42085.58],\n",
       "       [381, 'Germany', 'Male', ..., 1, 0, 92888.52],\n",
       "       [401, 'France', 'Female', ..., 1, 0, 38190.78]], dtype=object)"
      ]
     },
     "execution_count": 17,
     "metadata": {},
     "output_type": "execute_result"
    }
   ],
   "source": [
    "X"
   ]
  },
  {
   "cell_type": "code",
   "execution_count": 18,
   "id": "0be3cd02",
   "metadata": {},
   "outputs": [
    {
     "data": {
      "text/plain": [
       "array([1, 0, 1, ..., 1, 1, 0], dtype=int64)"
      ]
     },
     "execution_count": 18,
     "metadata": {},
     "output_type": "execute_result"
    }
   ],
   "source": [
    "y"
   ]
  },
  {
   "cell_type": "code",
   "execution_count": 25,
   "id": "5d14ea93",
   "metadata": {},
   "outputs": [],
   "source": [
    "from sklearn.preprocessing import LabelEncoder  \n",
    "labelencoder_X=LabelEncoder()  \n",
    "X[:,0]=labelencoder_X.fit_transform(X[:,0])  "
   ]
  },
  {
   "cell_type": "code",
   "execution_count": 26,
   "id": "7244c30e",
   "metadata": {},
   "outputs": [],
   "source": [
    "labelencoder_X_1=LabelEncoder()  \n",
    "X[:, 1]=labelencoder_X_1.fit_transform(X[:, 1])  "
   ]
  },
  {
   "cell_type": "code",
   "execution_count": 29,
   "id": "11cec165",
   "metadata": {},
   "outputs": [],
   "source": [
    "labelencoder_X_2=LabelEncoder()  \n",
    "X[:,2]=labelencoder_X_2.fit_transform(X[:, 2]) "
   ]
  },
  {
   "cell_type": "code",
   "execution_count": 30,
   "id": "34a5e649",
   "metadata": {},
   "outputs": [],
   "source": [
    "from sklearn.compose import ColumnTransformer  \n",
    "label_encoder_x_1=LabelEncoder()  \n",
    "X[: ,2]=label_encoder_x_1.fit_transform(X[:,2])  \n",
    "transformer=ColumnTransformer(  \n",
    "    transformers=[  \n",
    "        (\"OneHot\",        # Just a name  \n",
    "         OneHotEncoder(), # The transformer class  \n",
    "         [1]              # The column(s) to be applied on.  \n",
    "         )  \n",
    "    ],  \n",
    "    remainder='passthrough' # don't apply anything to the remaining columns   \n",
    ")  \n",
    "X=transformer.fit_transform(X.tolist())  \n",
    "X=X.astype('float64')  "
   ]
  },
  {
   "cell_type": "code",
   "execution_count": 31,
   "id": "27ce6dd9",
   "metadata": {},
   "outputs": [],
   "source": [
    "X=X[:, 1:]  "
   ]
  },
  {
   "cell_type": "code",
   "execution_count": 32,
   "id": "408f39f3",
   "metadata": {},
   "outputs": [],
   "source": [
    "from sklearn.model_selection import train_test_split  \n",
    "X_train, X_test, y_train, y_test = train_test_split(X, y, test_size = 0.2, random_state = 0)  "
   ]
  },
  {
   "cell_type": "code",
   "execution_count": 33,
   "id": "28969f9d",
   "metadata": {},
   "outputs": [
    {
     "data": {
      "text/plain": [
       "array([[0.0000000e+00, 1.0000000e+00, 2.7600000e+02, ..., 1.0000000e+00,\n",
       "        0.0000000e+00, 1.6383064e+05],\n",
       "       [1.0000000e+00, 0.0000000e+00, 3.6000000e+01, ..., 1.0000000e+00,\n",
       "        1.0000000e+00, 5.7098000e+04],\n",
       "       [0.0000000e+00, 0.0000000e+00, 1.4400000e+02, ..., 1.0000000e+00,\n",
       "        0.0000000e+00, 1.8563076e+05],\n",
       "       ...,\n",
       "       [0.0000000e+00, 0.0000000e+00, 3.4700000e+02, ..., 1.0000000e+00,\n",
       "        0.0000000e+00, 1.8142987e+05],\n",
       "       [0.0000000e+00, 1.0000000e+00, 1.9900000e+02, ..., 1.0000000e+00,\n",
       "        1.0000000e+00, 1.4875016e+05],\n",
       "       [1.0000000e+00, 0.0000000e+00, 2.3200000e+02, ..., 1.0000000e+00,\n",
       "        0.0000000e+00, 1.1885526e+05]])"
      ]
     },
     "execution_count": 33,
     "metadata": {},
     "output_type": "execute_result"
    }
   ],
   "source": [
    "X_train"
   ]
  },
  {
   "cell_type": "code",
   "execution_count": 34,
   "id": "b55df0bd",
   "metadata": {},
   "outputs": [],
   "source": [
    "from sklearn.preprocessing import StandardScaler  \n",
    "sc=StandardScaler()  \n",
    "X_train=sc.fit_transform(X_train)  \n",
    "X_test=sc.transform(X_test)  "
   ]
  },
  {
   "cell_type": "markdown",
   "id": "b468a59f",
   "metadata": {},
   "source": [
    "# Part2: Building an ANN"
   ]
  },
  {
   "cell_type": "code",
   "execution_count": 37,
   "id": "a34e2180",
   "metadata": {},
   "outputs": [],
   "source": [
    "import keras   "
   ]
  },
  {
   "cell_type": "code",
   "execution_count": 38,
   "id": "7b6bb227",
   "metadata": {},
   "outputs": [],
   "source": [
    "from keras.models import Sequential  \n",
    "from keras.layers import Dense  "
   ]
  },
  {
   "cell_type": "code",
   "execution_count": 39,
   "id": "e37ad6fe",
   "metadata": {},
   "outputs": [],
   "source": [
    "classifier=Sequential() "
   ]
  },
  {
   "cell_type": "code",
   "execution_count": 40,
   "id": "1e45963f",
   "metadata": {},
   "outputs": [],
   "source": [
    "classifier.add(Dense(units=6,kernel_initializer='uniform',activation='relu',input_dim = 11))  "
   ]
  },
  {
   "cell_type": "code",
   "execution_count": 41,
   "id": "04a8e4aa",
   "metadata": {},
   "outputs": [],
   "source": [
    "classifier.add(Dense(units=6,kernel_initializer='uniform',activation = 'relu'))"
   ]
  },
  {
   "cell_type": "code",
   "execution_count": 43,
   "id": "77a421aa",
   "metadata": {},
   "outputs": [],
   "source": [
    "classifier.add(Dense(units=1,kernel_initializer='uniform',activation='sigmoid')) "
   ]
  },
  {
   "cell_type": "code",
   "execution_count": 44,
   "id": "c0fbb2c7",
   "metadata": {},
   "outputs": [],
   "source": [
    "classifier.compile(optimizer='adam',loss='binary_crossentropy',metrics=['accuracy'])  "
   ]
  },
  {
   "cell_type": "code",
   "execution_count": 45,
   "id": "7c9d66de",
   "metadata": {},
   "outputs": [
    {
     "name": "stdout",
     "output_type": "stream",
     "text": [
      "Epoch 1/100\n",
      "800/800 [==============================] - 5s 4ms/step - loss: 0.4878 - accuracy: 0.7955\n",
      "Epoch 2/100\n",
      "800/800 [==============================] - 4s 4ms/step - loss: 0.4267 - accuracy: 0.7962\n",
      "Epoch 3/100\n",
      "800/800 [==============================] - 4s 5ms/step - loss: 0.4195 - accuracy: 0.8242\n",
      "Epoch 4/100\n",
      "800/800 [==============================] - 4s 5ms/step - loss: 0.4127 - accuracy: 0.8321\n",
      "Epoch 5/100\n",
      "800/800 [==============================] - 4s 5ms/step - loss: 0.4077 - accuracy: 0.8334\n",
      "Epoch 6/100\n",
      "800/800 [==============================] - 4s 5ms/step - loss: 0.4045 - accuracy: 0.8354\n",
      "Epoch 7/100\n",
      "800/800 [==============================] - 4s 5ms/step - loss: 0.4026 - accuracy: 0.8344\n",
      "Epoch 8/100\n",
      "800/800 [==============================] - 4s 5ms/step - loss: 0.4012 - accuracy: 0.8345\n",
      "Epoch 9/100\n",
      "800/800 [==============================] - 5s 7ms/step - loss: 0.4000 - accuracy: 0.8351\n",
      "Epoch 10/100\n",
      "800/800 [==============================] - 6s 7ms/step - loss: 0.3986 - accuracy: 0.8346\n",
      "Epoch 11/100\n",
      "800/800 [==============================] - 4s 6ms/step - loss: 0.3982 - accuracy: 0.8347\n",
      "Epoch 12/100\n",
      "800/800 [==============================] - 4s 5ms/step - loss: 0.3979 - accuracy: 0.8354\n",
      "Epoch 13/100\n",
      "800/800 [==============================] - 4s 5ms/step - loss: 0.3971 - accuracy: 0.8366\n",
      "Epoch 14/100\n",
      "800/800 [==============================] - 4s 5ms/step - loss: 0.3968 - accuracy: 0.8355\n",
      "Epoch 15/100\n",
      "800/800 [==============================] - 5s 6ms/step - loss: 0.3967 - accuracy: 0.8344\n",
      "Epoch 16/100\n",
      "800/800 [==============================] - 4s 6ms/step - loss: 0.3964 - accuracy: 0.8364\n",
      "Epoch 17/100\n",
      "800/800 [==============================] - 4s 5ms/step - loss: 0.3960 - accuracy: 0.8360\n",
      "Epoch 18/100\n",
      "800/800 [==============================] - 4s 5ms/step - loss: 0.3957 - accuracy: 0.8350\n",
      "Epoch 19/100\n",
      "800/800 [==============================] - 5s 6ms/step - loss: 0.3955 - accuracy: 0.8372\n",
      "Epoch 20/100\n",
      "800/800 [==============================] - 5s 6ms/step - loss: 0.3954 - accuracy: 0.8370\n",
      "Epoch 21/100\n",
      "800/800 [==============================] - 5s 6ms/step - loss: 0.3948 - accuracy: 0.8374\n",
      "Epoch 22/100\n",
      "800/800 [==============================] - 5s 6ms/step - loss: 0.3953 - accuracy: 0.8357\n",
      "Epoch 23/100\n",
      "800/800 [==============================] - 5s 6ms/step - loss: 0.3947 - accuracy: 0.8375\n",
      "Epoch 24/100\n",
      "800/800 [==============================] - 5s 6ms/step - loss: 0.3943 - accuracy: 0.8369\n",
      "Epoch 25/100\n",
      "800/800 [==============================] - 4s 5ms/step - loss: 0.3947 - accuracy: 0.8370\n",
      "Epoch 26/100\n",
      "800/800 [==============================] - 4s 5ms/step - loss: 0.3940 - accuracy: 0.8371\n",
      "Epoch 27/100\n",
      "800/800 [==============================] - 4s 5ms/step - loss: 0.3939 - accuracy: 0.8393\n",
      "Epoch 28/100\n",
      "800/800 [==============================] - 4s 5ms/step - loss: 0.3938 - accuracy: 0.8384\n",
      "Epoch 29/100\n",
      "800/800 [==============================] - 5s 6ms/step - loss: 0.3943 - accuracy: 0.8363\n",
      "Epoch 30/100\n",
      "800/800 [==============================] - 5s 6ms/step - loss: 0.3939 - accuracy: 0.8371\n",
      "Epoch 31/100\n",
      "800/800 [==============================] - 5s 6ms/step - loss: 0.3938 - accuracy: 0.8371\n",
      "Epoch 32/100\n",
      "800/800 [==============================] - 4s 6ms/step - loss: 0.3934 - accuracy: 0.8371\n",
      "Epoch 33/100\n",
      "800/800 [==============================] - 4s 5ms/step - loss: 0.3939 - accuracy: 0.8363\n",
      "Epoch 34/100\n",
      "800/800 [==============================] - 4s 5ms/step - loss: 0.3934 - accuracy: 0.8380\n",
      "Epoch 35/100\n",
      "800/800 [==============================] - 5s 6ms/step - loss: 0.3934 - accuracy: 0.8384\n",
      "Epoch 36/100\n",
      "800/800 [==============================] - 5s 6ms/step - loss: 0.3934 - accuracy: 0.8378\n",
      "Epoch 37/100\n",
      "800/800 [==============================] - 5s 6ms/step - loss: 0.3930 - accuracy: 0.8366\n",
      "Epoch 38/100\n",
      "800/800 [==============================] - 5s 6ms/step - loss: 0.3926 - accuracy: 0.8367\n",
      "Epoch 39/100\n",
      "800/800 [==============================] - 5s 6ms/step - loss: 0.3928 - accuracy: 0.8375\n",
      "Epoch 40/100\n",
      "800/800 [==============================] - 4s 5ms/step - loss: 0.3926 - accuracy: 0.8375\n",
      "Epoch 41/100\n",
      "800/800 [==============================] - 4s 5ms/step - loss: 0.3921 - accuracy: 0.8375\n",
      "Epoch 42/100\n",
      "800/800 [==============================] - 5s 6ms/step - loss: 0.3911 - accuracy: 0.8393\n",
      "Epoch 43/100\n",
      "800/800 [==============================] - 5s 6ms/step - loss: 0.3912 - accuracy: 0.8389\n",
      "Epoch 44/100\n",
      "800/800 [==============================] - 7s 9ms/step - loss: 0.3897 - accuracy: 0.8382\n",
      "Epoch 45/100\n",
      "800/800 [==============================] - 6s 8ms/step - loss: 0.3888 - accuracy: 0.8386\n",
      "Epoch 46/100\n",
      "800/800 [==============================] - 5s 6ms/step - loss: 0.3867 - accuracy: 0.8409\n",
      "Epoch 47/100\n",
      "800/800 [==============================] - 5s 6ms/step - loss: 0.3849 - accuracy: 0.8378\n",
      "Epoch 48/100\n",
      "800/800 [==============================] - 4s 5ms/step - loss: 0.3824 - accuracy: 0.8397\n",
      "Epoch 49/100\n",
      "800/800 [==============================] - 4s 5ms/step - loss: 0.3808 - accuracy: 0.8414\n",
      "Epoch 50/100\n",
      "800/800 [==============================] - 6s 7ms/step - loss: 0.3775 - accuracy: 0.8419\n",
      "Epoch 51/100\n",
      "800/800 [==============================] - 6s 7ms/step - loss: 0.3754 - accuracy: 0.8453\n",
      "Epoch 52/100\n",
      "800/800 [==============================] - 6s 7ms/step - loss: 0.3723 - accuracy: 0.8461\n",
      "Epoch 53/100\n",
      "800/800 [==============================] - 4s 6ms/step - loss: 0.3691 - accuracy: 0.8462\n",
      "Epoch 54/100\n",
      "800/800 [==============================] - 4s 5ms/step - loss: 0.3651 - accuracy: 0.8499\n",
      "Epoch 55/100\n",
      "800/800 [==============================] - 4s 5ms/step - loss: 0.3629 - accuracy: 0.8519\n",
      "Epoch 56/100\n",
      "800/800 [==============================] - 4s 5ms/step - loss: 0.3596 - accuracy: 0.8522\n",
      "Epoch 57/100\n",
      "800/800 [==============================] - 5s 6ms/step - loss: 0.3568 - accuracy: 0.8547\n",
      "Epoch 58/100\n",
      "800/800 [==============================] - 6s 7ms/step - loss: 0.3545 - accuracy: 0.8572\n",
      "Epoch 59/100\n",
      "800/800 [==============================] - 5s 6ms/step - loss: 0.3535 - accuracy: 0.8576\n",
      "Epoch 60/100\n",
      "800/800 [==============================] - 5s 6ms/step - loss: 0.3520 - accuracy: 0.8560\n",
      "Epoch 61/100\n",
      "800/800 [==============================] - 5s 7ms/step - loss: 0.3492 - accuracy: 0.8553\n",
      "Epoch 62/100\n",
      "800/800 [==============================] - 4s 5ms/step - loss: 0.3475 - accuracy: 0.8601\n",
      "Epoch 63/100\n",
      "800/800 [==============================] - 4s 6ms/step - loss: 0.3480 - accuracy: 0.8599\n",
      "Epoch 64/100\n",
      "800/800 [==============================] - 5s 7ms/step - loss: 0.3472 - accuracy: 0.8561\n",
      "Epoch 65/100\n",
      "800/800 [==============================] - 7s 8ms/step - loss: 0.3457 - accuracy: 0.8579\n",
      "Epoch 66/100\n",
      "800/800 [==============================] - 7s 9ms/step - loss: 0.3447 - accuracy: 0.8589\n",
      "Epoch 67/100\n",
      "800/800 [==============================] - 5s 6ms/step - loss: 0.3456 - accuracy: 0.8572\n",
      "Epoch 68/100\n",
      "800/800 [==============================] - 5s 6ms/step - loss: 0.3439 - accuracy: 0.8561\n",
      "Epoch 69/100\n",
      "800/800 [==============================] - 5s 6ms/step - loss: 0.3456 - accuracy: 0.8577\n",
      "Epoch 70/100\n",
      "800/800 [==============================] - 5s 7ms/step - loss: 0.3441 - accuracy: 0.8584\n",
      "Epoch 71/100\n",
      "800/800 [==============================] - 5s 6ms/step - loss: 0.3426 - accuracy: 0.8614\n",
      "Epoch 72/100\n",
      "800/800 [==============================] - 8s 9ms/step - loss: 0.3438 - accuracy: 0.8599\n",
      "Epoch 73/100\n",
      "800/800 [==============================] - 6s 8ms/step - loss: 0.3431 - accuracy: 0.8575\n",
      "Epoch 74/100\n",
      "800/800 [==============================] - 6s 7ms/step - loss: 0.3424 - accuracy: 0.8610\n",
      "Epoch 75/100\n",
      "800/800 [==============================] - 5s 7ms/step - loss: 0.3432 - accuracy: 0.8606\n",
      "Epoch 76/100\n",
      "800/800 [==============================] - 5s 6ms/step - loss: 0.3429 - accuracy: 0.8579\n",
      "Epoch 77/100\n",
      "800/800 [==============================] - 4s 5ms/step - loss: 0.3421 - accuracy: 0.8594\n",
      "Epoch 78/100\n",
      "800/800 [==============================] - 5s 6ms/step - loss: 0.3414 - accuracy: 0.8596\n",
      "Epoch 79/100\n",
      "800/800 [==============================] - 7s 9ms/step - loss: 0.3417 - accuracy: 0.8594\n",
      "Epoch 80/100\n",
      "800/800 [==============================] - 6s 8ms/step - loss: 0.3420 - accuracy: 0.8585\n",
      "Epoch 81/100\n"
     ]
    },
    {
     "name": "stdout",
     "output_type": "stream",
     "text": [
      "800/800 [==============================] - 4s 5ms/step - loss: 0.3423 - accuracy: 0.8587\n",
      "Epoch 82/100\n",
      "800/800 [==============================] - 4s 5ms/step - loss: 0.3414 - accuracy: 0.8595\n",
      "Epoch 83/100\n",
      "800/800 [==============================] - 4s 5ms/step - loss: 0.3418 - accuracy: 0.8584\n",
      "Epoch 84/100\n",
      "800/800 [==============================] - 4s 4ms/step - loss: 0.3403 - accuracy: 0.8599\n",
      "Epoch 85/100\n",
      "800/800 [==============================] - 4s 4ms/step - loss: 0.3408 - accuracy: 0.8615\n",
      "Epoch 86/100\n",
      "800/800 [==============================] - 4s 5ms/step - loss: 0.3408 - accuracy: 0.8574\n",
      "Epoch 87/100\n",
      "800/800 [==============================] - 4s 4ms/step - loss: 0.3411 - accuracy: 0.8612\n",
      "Epoch 88/100\n",
      "800/800 [==============================] - 4s 5ms/step - loss: 0.3413 - accuracy: 0.8599\n",
      "Epoch 89/100\n",
      "800/800 [==============================] - 4s 5ms/step - loss: 0.3406 - accuracy: 0.8587\n",
      "Epoch 90/100\n",
      "800/800 [==============================] - 4s 5ms/step - loss: 0.3415 - accuracy: 0.8604\n",
      "Epoch 91/100\n",
      "800/800 [==============================] - 4s 5ms/step - loss: 0.3401 - accuracy: 0.8601\n",
      "Epoch 92/100\n",
      "800/800 [==============================] - 4s 5ms/step - loss: 0.3408 - accuracy: 0.8585\n",
      "Epoch 93/100\n",
      "800/800 [==============================] - 4s 5ms/step - loss: 0.3411 - accuracy: 0.8608\n",
      "Epoch 94/100\n",
      "800/800 [==============================] - 4s 5ms/step - loss: 0.3402 - accuracy: 0.8610\n",
      "Epoch 95/100\n",
      "800/800 [==============================] - 4s 5ms/step - loss: 0.3407 - accuracy: 0.8581\n",
      "Epoch 96/100\n",
      "800/800 [==============================] - 4s 5ms/step - loss: 0.3406 - accuracy: 0.8605\n",
      "Epoch 97/100\n",
      "800/800 [==============================] - 4s 5ms/step - loss: 0.3397 - accuracy: 0.8620\n",
      "Epoch 98/100\n",
      "800/800 [==============================] - 4s 5ms/step - loss: 0.3406 - accuracy: 0.8597\n",
      "Epoch 99/100\n",
      "800/800 [==============================] - 4s 5ms/step - loss: 0.3408 - accuracy: 0.8606\n",
      "Epoch 100/100\n",
      "800/800 [==============================] - 4s 5ms/step - loss: 0.3400 - accuracy: 0.8595\n"
     ]
    },
    {
     "data": {
      "text/plain": [
       "<keras.callbacks.History at 0x1eed1d02e60>"
      ]
     },
     "execution_count": 45,
     "metadata": {},
     "output_type": "execute_result"
    }
   ],
   "source": [
    "classifier.fit(X_train,y_train,batch_size=10,epochs=100) "
   ]
  },
  {
   "cell_type": "markdown",
   "id": "7b6825ad",
   "metadata": {},
   "source": [
    "# Part3: Making the Predictions and Evaluating the Model"
   ]
  },
  {
   "cell_type": "code",
   "execution_count": 46,
   "id": "b59f3e94",
   "metadata": {},
   "outputs": [
    {
     "name": "stdout",
     "output_type": "stream",
     "text": [
      "63/63 [==============================] - 1s 4ms/step\n"
     ]
    }
   ],
   "source": [
    "y_pred=classifier.predict(X_test) "
   ]
  },
  {
   "cell_type": "code",
   "execution_count": 47,
   "id": "643f7cb5",
   "metadata": {},
   "outputs": [
    {
     "data": {
      "text/plain": [
       "array([[0.24620707],\n",
       "       [0.2893916 ],\n",
       "       [0.12732305],\n",
       "       ...,\n",
       "       [0.16310292],\n",
       "       [0.16529898],\n",
       "       [0.28225496]], dtype=float32)"
      ]
     },
     "execution_count": 47,
     "metadata": {},
     "output_type": "execute_result"
    }
   ],
   "source": [
    "y_pred"
   ]
  },
  {
   "cell_type": "code",
   "execution_count": 48,
   "id": "b99d89fc",
   "metadata": {},
   "outputs": [],
   "source": [
    "y_pred=(y_pred > 0.5)   "
   ]
  },
  {
   "cell_type": "code",
   "execution_count": 49,
   "id": "ebc00beb",
   "metadata": {},
   "outputs": [
    {
     "data": {
      "text/plain": [
       "array([[False],\n",
       "       [False],\n",
       "       [False],\n",
       "       ...,\n",
       "       [False],\n",
       "       [False],\n",
       "       [False]])"
      ]
     },
     "execution_count": 49,
     "metadata": {},
     "output_type": "execute_result"
    }
   ],
   "source": [
    "y_pred"
   ]
  },
  {
   "cell_type": "code",
   "execution_count": null,
   "id": "cca862b8",
   "metadata": {},
   "outputs": [],
   "source": [
    "from sklearn.metrics import confusion_matrix  \n",
    "cm=confusion_matrix(y_test, y_pred)  "
   ]
  }
 ],
 "metadata": {
  "kernelspec": {
   "display_name": "Python 3 (ipykernel)",
   "language": "python",
   "name": "python3"
  },
  "language_info": {
   "codemirror_mode": {
    "name": "ipython",
    "version": 3
   },
   "file_extension": ".py",
   "mimetype": "text/x-python",
   "name": "python",
   "nbconvert_exporter": "python",
   "pygments_lexer": "ipython3",
   "version": "3.10.9"
  }
 },
 "nbformat": 4,
 "nbformat_minor": 5
}
