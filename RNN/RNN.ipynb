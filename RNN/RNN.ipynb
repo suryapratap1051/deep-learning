{
 "cells": [
  {
   "cell_type": "markdown",
   "id": "2230ec5b",
   "metadata": {},
   "source": [
    "# Part1: Data Preprocessing"
   ]
  },
  {
   "cell_type": "code",
   "execution_count": 1,
   "id": "c4d75c94",
   "metadata": {},
   "outputs": [],
   "source": [
    "# Importing the libraries  \n",
    "import numpy as np  \n",
    "import matplotlib.pyplot as plt  \n",
    "import pandas as pd  "
   ]
  },
  {
   "cell_type": "code",
   "execution_count": 2,
   "id": "f623af00",
   "metadata": {},
   "outputs": [
    {
     "data": {
      "text/html": [
       "<div>\n",
       "<style scoped>\n",
       "    .dataframe tbody tr th:only-of-type {\n",
       "        vertical-align: middle;\n",
       "    }\n",
       "\n",
       "    .dataframe tbody tr th {\n",
       "        vertical-align: top;\n",
       "    }\n",
       "\n",
       "    .dataframe thead th {\n",
       "        text-align: right;\n",
       "    }\n",
       "</style>\n",
       "<table border=\"1\" class=\"dataframe\">\n",
       "  <thead>\n",
       "    <tr style=\"text-align: right;\">\n",
       "      <th></th>\n",
       "      <th>Date</th>\n",
       "      <th>Open</th>\n",
       "      <th>High</th>\n",
       "      <th>Low</th>\n",
       "      <th>Close</th>\n",
       "      <th>Volume</th>\n",
       "    </tr>\n",
       "  </thead>\n",
       "  <tbody>\n",
       "    <tr>\n",
       "      <th>0</th>\n",
       "      <td>1/3/2012</td>\n",
       "      <td>325.25</td>\n",
       "      <td>332.83</td>\n",
       "      <td>324.97</td>\n",
       "      <td>663.59</td>\n",
       "      <td>7,380,500</td>\n",
       "    </tr>\n",
       "    <tr>\n",
       "      <th>1</th>\n",
       "      <td>1/4/2012</td>\n",
       "      <td>331.27</td>\n",
       "      <td>333.87</td>\n",
       "      <td>329.08</td>\n",
       "      <td>666.45</td>\n",
       "      <td>5,749,400</td>\n",
       "    </tr>\n",
       "    <tr>\n",
       "      <th>2</th>\n",
       "      <td>1/5/2012</td>\n",
       "      <td>329.83</td>\n",
       "      <td>330.75</td>\n",
       "      <td>326.89</td>\n",
       "      <td>657.21</td>\n",
       "      <td>6,590,300</td>\n",
       "    </tr>\n",
       "    <tr>\n",
       "      <th>3</th>\n",
       "      <td>1/6/2012</td>\n",
       "      <td>328.34</td>\n",
       "      <td>328.77</td>\n",
       "      <td>323.68</td>\n",
       "      <td>648.24</td>\n",
       "      <td>5,405,900</td>\n",
       "    </tr>\n",
       "    <tr>\n",
       "      <th>4</th>\n",
       "      <td>1/9/2012</td>\n",
       "      <td>322.04</td>\n",
       "      <td>322.29</td>\n",
       "      <td>309.46</td>\n",
       "      <td>620.76</td>\n",
       "      <td>11,688,800</td>\n",
       "    </tr>\n",
       "    <tr>\n",
       "      <th>...</th>\n",
       "      <td>...</td>\n",
       "      <td>...</td>\n",
       "      <td>...</td>\n",
       "      <td>...</td>\n",
       "      <td>...</td>\n",
       "      <td>...</td>\n",
       "    </tr>\n",
       "    <tr>\n",
       "      <th>1253</th>\n",
       "      <td>12/23/2016</td>\n",
       "      <td>790.90</td>\n",
       "      <td>792.74</td>\n",
       "      <td>787.28</td>\n",
       "      <td>789.91</td>\n",
       "      <td>623,400</td>\n",
       "    </tr>\n",
       "    <tr>\n",
       "      <th>1254</th>\n",
       "      <td>12/27/2016</td>\n",
       "      <td>790.68</td>\n",
       "      <td>797.86</td>\n",
       "      <td>787.66</td>\n",
       "      <td>791.55</td>\n",
       "      <td>789,100</td>\n",
       "    </tr>\n",
       "    <tr>\n",
       "      <th>1255</th>\n",
       "      <td>12/28/2016</td>\n",
       "      <td>793.70</td>\n",
       "      <td>794.23</td>\n",
       "      <td>783.20</td>\n",
       "      <td>785.05</td>\n",
       "      <td>1,153,800</td>\n",
       "    </tr>\n",
       "    <tr>\n",
       "      <th>1256</th>\n",
       "      <td>12/29/2016</td>\n",
       "      <td>783.33</td>\n",
       "      <td>785.93</td>\n",
       "      <td>778.92</td>\n",
       "      <td>782.79</td>\n",
       "      <td>744,300</td>\n",
       "    </tr>\n",
       "    <tr>\n",
       "      <th>1257</th>\n",
       "      <td>12/30/2016</td>\n",
       "      <td>782.75</td>\n",
       "      <td>782.78</td>\n",
       "      <td>770.41</td>\n",
       "      <td>771.82</td>\n",
       "      <td>1,770,000</td>\n",
       "    </tr>\n",
       "  </tbody>\n",
       "</table>\n",
       "<p>1258 rows × 6 columns</p>\n",
       "</div>"
      ],
      "text/plain": [
       "            Date    Open    High     Low   Close      Volume\n",
       "0       1/3/2012  325.25  332.83  324.97  663.59   7,380,500\n",
       "1       1/4/2012  331.27  333.87  329.08  666.45   5,749,400\n",
       "2       1/5/2012  329.83  330.75  326.89  657.21   6,590,300\n",
       "3       1/6/2012  328.34  328.77  323.68  648.24   5,405,900\n",
       "4       1/9/2012  322.04  322.29  309.46  620.76  11,688,800\n",
       "...          ...     ...     ...     ...     ...         ...\n",
       "1253  12/23/2016  790.90  792.74  787.28  789.91     623,400\n",
       "1254  12/27/2016  790.68  797.86  787.66  791.55     789,100\n",
       "1255  12/28/2016  793.70  794.23  783.20  785.05   1,153,800\n",
       "1256  12/29/2016  783.33  785.93  778.92  782.79     744,300\n",
       "1257  12/30/2016  782.75  782.78  770.41  771.82   1,770,000\n",
       "\n",
       "[1258 rows x 6 columns]"
      ]
     },
     "execution_count": 2,
     "metadata": {},
     "output_type": "execute_result"
    }
   ],
   "source": [
    "# Importing the training set  \n",
    "dataset_train=pd.read_csv('Google_Stock_Price_Train.csv')  \n",
    "dataset_train\n"
   ]
  },
  {
   "cell_type": "code",
   "execution_count": 6,
   "id": "2aa7f6d9",
   "metadata": {},
   "outputs": [
    {
     "data": {
      "text/plain": [
       "array([[325.25],\n",
       "       [331.27],\n",
       "       [329.83],\n",
       "       ...,\n",
       "       [793.7 ],\n",
       "       [783.33],\n",
       "       [782.75]])"
      ]
     },
     "execution_count": 6,
     "metadata": {},
     "output_type": "execute_result"
    }
   ],
   "source": [
    "training_set=dataset_train.iloc[:, 1:2].values\n",
    "training_set"
   ]
  },
  {
   "cell_type": "code",
   "execution_count": 7,
   "id": "fd9600e7",
   "metadata": {},
   "outputs": [],
   "source": [
    "# Feature Scaling  \n",
    "from sklearn.preprocessing import MinMaxScaler  \n",
    "sc=MinMaxScaler(feature_range=(0, 1))  \n",
    "training_set_scaled=sc.fit_transform(training_set)  "
   ]
  },
  {
   "cell_type": "code",
   "execution_count": 8,
   "id": "18bc71a6",
   "metadata": {},
   "outputs": [
    {
     "data": {
      "text/plain": [
       "array([[0.08581368],\n",
       "       [0.09701243],\n",
       "       [0.09433366],\n",
       "       ...,\n",
       "       [0.95725128],\n",
       "       [0.93796041],\n",
       "       [0.93688146]])"
      ]
     },
     "execution_count": 8,
     "metadata": {},
     "output_type": "execute_result"
    }
   ],
   "source": [
    "training_set_scaled"
   ]
  },
  {
   "cell_type": "code",
   "execution_count": 9,
   "id": "7007d93a",
   "metadata": {},
   "outputs": [],
   "source": [
    "# Creating a data structure with 60 timesteps and 1 output  \n",
    "X_train=[]  \n",
    "y_train=[]  \n",
    "for i in range(60, 1258):  \n",
    "    X_train.append(training_set_scaled[i-60:i, 0])  \n",
    "    y_train.append(training_set_scaled[i, 0])  \n",
    "X_train,y_train=np.array(X_train),np.array(y_train)  "
   ]
  },
  {
   "cell_type": "code",
   "execution_count": 10,
   "id": "a1149836",
   "metadata": {},
   "outputs": [
    {
     "data": {
      "text/plain": [
       "array([[0.08581368, 0.09701243, 0.09433366, ..., 0.07846566, 0.08034452,\n",
       "        0.08497656],\n",
       "       [0.09701243, 0.09433366, 0.09156187, ..., 0.08034452, 0.08497656,\n",
       "        0.08627874],\n",
       "       [0.09433366, 0.09156187, 0.07984225, ..., 0.08497656, 0.08627874,\n",
       "        0.08471612],\n",
       "       ...,\n",
       "       [0.92106928, 0.92438053, 0.93048218, ..., 0.95475854, 0.95204256,\n",
       "        0.95163331],\n",
       "       [0.92438053, 0.93048218, 0.9299055 , ..., 0.95204256, 0.95163331,\n",
       "        0.95725128],\n",
       "       [0.93048218, 0.9299055 , 0.93113327, ..., 0.95163331, 0.95725128,\n",
       "        0.93796041]])"
      ]
     },
     "execution_count": 10,
     "metadata": {},
     "output_type": "execute_result"
    }
   ],
   "source": [
    "X_train"
   ]
  },
  {
   "cell_type": "code",
   "execution_count": 11,
   "id": "6c3001e8",
   "metadata": {},
   "outputs": [
    {
     "data": {
      "text/plain": [
       "array([0.08627874, 0.08471612, 0.07454052, ..., 0.95725128, 0.93796041,\n",
       "       0.93688146])"
      ]
     },
     "execution_count": 11,
     "metadata": {},
     "output_type": "execute_result"
    }
   ],
   "source": [
    "y_train"
   ]
  },
  {
   "cell_type": "code",
   "execution_count": 12,
   "id": "e6913509",
   "metadata": {},
   "outputs": [],
   "source": [
    "# Reshaping  \n",
    "X_train=np.reshape(X_train,(X_train.shape[0],X_train.shape[1], 1))  "
   ]
  },
  {
   "cell_type": "code",
   "execution_count": 13,
   "id": "83f0c4ae",
   "metadata": {},
   "outputs": [
    {
     "data": {
      "text/plain": [
       "array([[[0.08581368],\n",
       "        [0.09701243],\n",
       "        [0.09433366],\n",
       "        ...,\n",
       "        [0.07846566],\n",
       "        [0.08034452],\n",
       "        [0.08497656]],\n",
       "\n",
       "       [[0.09701243],\n",
       "        [0.09433366],\n",
       "        [0.09156187],\n",
       "        ...,\n",
       "        [0.08034452],\n",
       "        [0.08497656],\n",
       "        [0.08627874]],\n",
       "\n",
       "       [[0.09433366],\n",
       "        [0.09156187],\n",
       "        [0.07984225],\n",
       "        ...,\n",
       "        [0.08497656],\n",
       "        [0.08627874],\n",
       "        [0.08471612]],\n",
       "\n",
       "       ...,\n",
       "\n",
       "       [[0.92106928],\n",
       "        [0.92438053],\n",
       "        [0.93048218],\n",
       "        ...,\n",
       "        [0.95475854],\n",
       "        [0.95204256],\n",
       "        [0.95163331]],\n",
       "\n",
       "       [[0.92438053],\n",
       "        [0.93048218],\n",
       "        [0.9299055 ],\n",
       "        ...,\n",
       "        [0.95204256],\n",
       "        [0.95163331],\n",
       "        [0.95725128]],\n",
       "\n",
       "       [[0.93048218],\n",
       "        [0.9299055 ],\n",
       "        [0.93113327],\n",
       "        ...,\n",
       "        [0.95163331],\n",
       "        [0.95725128],\n",
       "        [0.93796041]]])"
      ]
     },
     "execution_count": 13,
     "metadata": {},
     "output_type": "execute_result"
    }
   ],
   "source": [
    "X_train"
   ]
  },
  {
   "cell_type": "markdown",
   "id": "88d604ea",
   "metadata": {},
   "source": [
    "# Part 2 - Building the RNN"
   ]
  },
  {
   "cell_type": "code",
   "execution_count": 14,
   "id": "404f955d",
   "metadata": {},
   "outputs": [],
   "source": [
    "# Importing the Keras libraries and packages  \n",
    "from keras.models import Sequential  \n",
    "from keras.layers import Dense  \n",
    "from keras.layers import LSTM  \n",
    "from keras.layers import Dropout  "
   ]
  },
  {
   "cell_type": "code",
   "execution_count": 15,
   "id": "531b7422",
   "metadata": {},
   "outputs": [],
   "source": [
    "# Initialising the RNN  \n",
    "regressor=Sequential()  "
   ]
  },
  {
   "cell_type": "code",
   "execution_count": 16,
   "id": "22bf5213",
   "metadata": {},
   "outputs": [],
   "source": [
    "# Adding the first LSTM layer and some Dropout regularization  \n",
    "regressor.add(LSTM(units=50,return_sequences=True,input_shape=(X_train.shape[1], 1)))  "
   ]
  },
  {
   "cell_type": "code",
   "execution_count": 17,
   "id": "a9f7c801",
   "metadata": {},
   "outputs": [],
   "source": [
    "regressor.add(Dropout(0.2))  "
   ]
  },
  {
   "cell_type": "code",
   "execution_count": 18,
   "id": "aa2e3687",
   "metadata": {},
   "outputs": [],
   "source": [
    "# Adding a second LSTM layer and some Dropout regularization  \n",
    "regressor.add(LSTM(units=50,return_sequences=True))  \n",
    "regressor.add(Dropout(0.2))  "
   ]
  },
  {
   "cell_type": "code",
   "execution_count": 19,
   "id": "efa40f4d",
   "metadata": {},
   "outputs": [],
   "source": [
    "# Adding a third LSTM layer and some Dropout regularization  \n",
    "regressor.add(LSTM(units=50,return_sequences=True))  \n",
    "regressor.add(Dropout(0.2))  "
   ]
  },
  {
   "cell_type": "code",
   "execution_count": 20,
   "id": "a6a09a2d",
   "metadata": {},
   "outputs": [],
   "source": [
    "# Adding a fourth LSTM layer and some Dropout regularization  \n",
    "regressor.add(LSTM(units=50))  \n",
    "regressor.add(Dropout(0.2))  "
   ]
  },
  {
   "cell_type": "code",
   "execution_count": 21,
   "id": "cdf8db16",
   "metadata": {},
   "outputs": [],
   "source": [
    "# Adding the output layer  \n",
    "regressor.add(Dense(units=1))  "
   ]
  },
  {
   "cell_type": "code",
   "execution_count": 22,
   "id": "82e59fa9",
   "metadata": {},
   "outputs": [],
   "source": [
    "# Compiling the RNN  \n",
    "regressor.compile(optimizer='adam',loss='mean_squared_error')  "
   ]
  },
  {
   "cell_type": "code",
   "execution_count": 23,
   "id": "22165e1f",
   "metadata": {},
   "outputs": [
    {
     "name": "stdout",
     "output_type": "stream",
     "text": [
      "Epoch 1/100\n",
      "38/38 [==============================] - 35s 476ms/step - loss: 0.0438\n",
      "Epoch 2/100\n",
      "38/38 [==============================] - 21s 545ms/step - loss: 0.0072\n",
      "Epoch 3/100\n",
      "38/38 [==============================] - 18s 483ms/step - loss: 0.0056\n",
      "Epoch 4/100\n",
      "38/38 [==============================] - 23s 619ms/step - loss: 0.0056\n",
      "Epoch 5/100\n",
      "38/38 [==============================] - 18s 485ms/step - loss: 0.0058\n",
      "Epoch 6/100\n",
      "38/38 [==============================] - 22s 578ms/step - loss: 0.0055\n",
      "Epoch 7/100\n",
      "38/38 [==============================] - 24s 646ms/step - loss: 0.0051\n",
      "Epoch 8/100\n",
      "38/38 [==============================] - 20s 508ms/step - loss: 0.0057\n",
      "Epoch 9/100\n",
      "38/38 [==============================] - 26s 691ms/step - loss: 0.0047\n",
      "Epoch 10/100\n",
      "38/38 [==============================] - 19s 506ms/step - loss: 0.0046\n",
      "Epoch 11/100\n",
      "38/38 [==============================] - 24s 641ms/step - loss: 0.0044\n",
      "Epoch 12/100\n",
      "38/38 [==============================] - 24s 642ms/step - loss: 0.0044\n",
      "Epoch 13/100\n",
      "38/38 [==============================] - 22s 572ms/step - loss: 0.0046\n",
      "Epoch 14/100\n",
      "38/38 [==============================] - 22s 568ms/step - loss: 0.0044\n",
      "Epoch 15/100\n",
      "38/38 [==============================] - 22s 581ms/step - loss: 0.0041\n",
      "Epoch 16/100\n",
      "38/38 [==============================] - 21s 546ms/step - loss: 0.0043\n",
      "Epoch 17/100\n",
      "38/38 [==============================] - 26s 686ms/step - loss: 0.0050\n",
      "Epoch 18/100\n",
      "38/38 [==============================] - 18s 481ms/step - loss: 0.0039\n",
      "Epoch 19/100\n",
      "38/38 [==============================] - 29s 758ms/step - loss: 0.0037\n",
      "Epoch 20/100\n",
      "38/38 [==============================] - 19s 490ms/step - loss: 0.0034\n",
      "Epoch 21/100\n",
      "38/38 [==============================] - 25s 659ms/step - loss: 0.0039\n",
      "Epoch 22/100\n",
      "38/38 [==============================] - 20s 529ms/step - loss: 0.0040\n",
      "Epoch 23/100\n",
      "38/38 [==============================] - 22s 585ms/step - loss: 0.0037\n",
      "Epoch 24/100\n",
      "38/38 [==============================] - 29s 765ms/step - loss: 0.0032\n",
      "Epoch 25/100\n",
      "38/38 [==============================] - 22s 586ms/step - loss: 0.0032\n",
      "Epoch 26/100\n",
      "38/38 [==============================] - 19s 506ms/step - loss: 0.0032\n",
      "Epoch 27/100\n",
      "38/38 [==============================] - 29s 774ms/step - loss: 0.0039\n",
      "Epoch 28/100\n",
      "38/38 [==============================] - 22s 579ms/step - loss: 0.0032\n",
      "Epoch 29/100\n",
      "38/38 [==============================] - 21s 562ms/step - loss: 0.0031\n",
      "Epoch 30/100\n",
      "38/38 [==============================] - 23s 612ms/step - loss: 0.0029\n",
      "Epoch 31/100\n",
      "38/38 [==============================] - 23s 592ms/step - loss: 0.0030\n",
      "Epoch 32/100\n",
      "38/38 [==============================] - 21s 560ms/step - loss: 0.0037\n",
      "Epoch 33/100\n",
      "38/38 [==============================] - 30s 777ms/step - loss: 0.0030\n",
      "Epoch 34/100\n",
      "38/38 [==============================] - 21s 545ms/step - loss: 0.0031\n",
      "Epoch 35/100\n",
      "38/38 [==============================] - 18s 479ms/step - loss: 0.0031\n",
      "Epoch 36/100\n",
      "38/38 [==============================] - 23s 601ms/step - loss: 0.0028\n",
      "Epoch 37/100\n",
      "38/38 [==============================] - 18s 472ms/step - loss: 0.0028\n",
      "Epoch 38/100\n",
      "38/38 [==============================] - 32s 848ms/step - loss: 0.0028\n",
      "Epoch 39/100\n",
      "38/38 [==============================] - 18s 486ms/step - loss: 0.0027\n",
      "Epoch 40/100\n",
      "38/38 [==============================] - 22s 583ms/step - loss: 0.0028\n",
      "Epoch 41/100\n",
      "38/38 [==============================] - 23s 596ms/step - loss: 0.0027\n",
      "Epoch 42/100\n",
      "38/38 [==============================] - 19s 502ms/step - loss: 0.0028\n",
      "Epoch 43/100\n",
      "38/38 [==============================] - 24s 641ms/step - loss: 0.0027\n",
      "Epoch 44/100\n",
      "38/38 [==============================] - 18s 470ms/step - loss: 0.0027\n",
      "Epoch 45/100\n",
      "38/38 [==============================] - 23s 606ms/step - loss: 0.0027\n",
      "Epoch 46/100\n",
      "38/38 [==============================] - 25s 670ms/step - loss: 0.0027\n",
      "Epoch 47/100\n",
      "38/38 [==============================] - 23s 595ms/step - loss: 0.0026\n",
      "Epoch 48/100\n",
      "38/38 [==============================] - 21s 568ms/step - loss: 0.0027\n",
      "Epoch 49/100\n",
      "38/38 [==============================] - 18s 474ms/step - loss: 0.0023\n",
      "Epoch 50/100\n",
      "38/38 [==============================] - 30s 782ms/step - loss: 0.0023\n",
      "Epoch 51/100\n",
      "38/38 [==============================] - 17s 456ms/step - loss: 0.0026\n",
      "Epoch 52/100\n",
      "38/38 [==============================] - 28s 742ms/step - loss: 0.0023\n",
      "Epoch 53/100\n",
      "38/38 [==============================] - 18s 476ms/step - loss: 0.0024\n",
      "Epoch 54/100\n",
      "38/38 [==============================] - 26s 683ms/step - loss: 0.0022\n",
      "Epoch 55/100\n",
      "38/38 [==============================] - 18s 467ms/step - loss: 0.0023\n",
      "Epoch 56/100\n",
      "38/38 [==============================] - 24s 632ms/step - loss: 0.0020\n",
      "Epoch 57/100\n",
      "38/38 [==============================] - 20s 534ms/step - loss: 0.0024\n",
      "Epoch 58/100\n",
      "38/38 [==============================] - 22s 561ms/step - loss: 0.0020\n",
      "Epoch 59/100\n",
      "38/38 [==============================] - 22s 576ms/step - loss: 0.0021\n",
      "Epoch 60/100\n",
      "38/38 [==============================] - 17s 457ms/step - loss: 0.0024\n",
      "Epoch 61/100\n",
      "38/38 [==============================] - 33s 870ms/step - loss: 0.0030\n",
      "Epoch 62/100\n",
      "38/38 [==============================] - 19s 505ms/step - loss: 0.0021\n",
      "Epoch 63/100\n",
      "38/38 [==============================] - 22s 579ms/step - loss: 0.0020\n",
      "Epoch 64/100\n",
      "38/38 [==============================] - 26s 678ms/step - loss: 0.0022\n",
      "Epoch 65/100\n",
      "38/38 [==============================] - 26s 678ms/step - loss: 0.0020\n",
      "Epoch 66/100\n",
      "38/38 [==============================] - 23s 605ms/step - loss: 0.0020\n",
      "Epoch 67/100\n",
      "38/38 [==============================] - 19s 501ms/step - loss: 0.0019\n",
      "Epoch 68/100\n",
      "38/38 [==============================] - 30s 786ms/step - loss: 0.0018\n",
      "Epoch 69/100\n",
      "38/38 [==============================] - 18s 483ms/step - loss: 0.0020\n",
      "Epoch 70/100\n",
      "38/38 [==============================] - 24s 624ms/step - loss: 0.0018\n",
      "Epoch 71/100\n",
      "38/38 [==============================] - 24s 634ms/step - loss: 0.0019\n",
      "Epoch 72/100\n",
      "38/38 [==============================] - 21s 552ms/step - loss: 0.0019\n",
      "Epoch 73/100\n",
      "38/38 [==============================] - 33s 876ms/step - loss: 0.0021\n",
      "Epoch 74/100\n",
      "38/38 [==============================] - 18s 474ms/step - loss: 0.0020\n",
      "Epoch 75/100\n",
      "38/38 [==============================] - 39s 1s/step - loss: 0.0017\n",
      "Epoch 76/100\n",
      "38/38 [==============================] - 23s 608ms/step - loss: 0.0019\n",
      "Epoch 77/100\n",
      "38/38 [==============================] - 19s 505ms/step - loss: 0.0016\n",
      "Epoch 78/100\n",
      "38/38 [==============================] - 29s 777ms/step - loss: 0.0016\n",
      "Epoch 79/100\n",
      "38/38 [==============================] - 22s 556ms/step - loss: 0.0017\n",
      "Epoch 80/100\n",
      "38/38 [==============================] - 27s 721ms/step - loss: 0.0016\n",
      "Epoch 81/100\n",
      "38/38 [==============================] - 20s 528ms/step - loss: 0.0018\n",
      "Epoch 82/100\n",
      "38/38 [==============================] - 23s 599ms/step - loss: 0.0017\n",
      "Epoch 83/100\n",
      "38/38 [==============================] - 21s 554ms/step - loss: 0.0018\n",
      "Epoch 84/100\n",
      "38/38 [==============================] - 22s 587ms/step - loss: 0.0017\n",
      "Epoch 85/100\n",
      "38/38 [==============================] - 20s 524ms/step - loss: 0.0017\n",
      "Epoch 86/100\n",
      "38/38 [==============================] - 30s 800ms/step - loss: 0.0018\n",
      "Epoch 87/100\n",
      "38/38 [==============================] - 18s 475ms/step - loss: 0.0016\n",
      "Epoch 88/100\n",
      "38/38 [==============================] - 33s 867ms/step - loss: 0.0017\n",
      "Epoch 89/100\n",
      "38/38 [==============================] - 23s 591ms/step - loss: 0.0014\n",
      "Epoch 90/100\n",
      "38/38 [==============================] - 20s 526ms/step - loss: 0.0017\n",
      "Epoch 91/100\n",
      "38/38 [==============================] - 28s 746ms/step - loss: 0.0016\n",
      "Epoch 92/100\n",
      "38/38 [==============================] - 19s 495ms/step - loss: 0.0017\n",
      "Epoch 93/100\n",
      "38/38 [==============================] - 25s 649ms/step - loss: 0.0017\n",
      "Epoch 94/100\n",
      "38/38 [==============================] - 26s 685ms/step - loss: 0.0014\n",
      "Epoch 95/100\n",
      "38/38 [==============================] - 40s 1s/step - loss: 0.0015\n",
      "Epoch 96/100\n",
      "38/38 [==============================] - 43s 1s/step - loss: 0.0015\n",
      "Epoch 97/100\n",
      "38/38 [==============================] - 44s 1s/step - loss: 0.0016\n",
      "Epoch 98/100\n"
     ]
    },
    {
     "name": "stdout",
     "output_type": "stream",
     "text": [
      "38/38 [==============================] - 41s 1s/step - loss: 0.0015\n",
      "Epoch 99/100\n",
      "38/38 [==============================] - 43s 1s/step - loss: 0.0015\n",
      "Epoch 100/100\n",
      "38/38 [==============================] - 43s 1s/step - loss: 0.0014\n"
     ]
    },
    {
     "data": {
      "text/plain": [
       "<keras.callbacks.History at 0x1649b519bd0>"
      ]
     },
     "execution_count": 23,
     "metadata": {},
     "output_type": "execute_result"
    }
   ],
   "source": [
    "# Fitting the RNN to the Training set  \n",
    "regressor.fit(X_train,y_train,epochs=100,batch_size=32)  "
   ]
  },
  {
   "cell_type": "markdown",
   "id": "81b1c594",
   "metadata": {},
   "source": [
    "# Part 3 - Making the predictions and visualizing the results"
   ]
  },
  {
   "cell_type": "code",
   "execution_count": 24,
   "id": "acabdef1",
   "metadata": {},
   "outputs": [
    {
     "data": {
      "text/html": [
       "<div>\n",
       "<style scoped>\n",
       "    .dataframe tbody tr th:only-of-type {\n",
       "        vertical-align: middle;\n",
       "    }\n",
       "\n",
       "    .dataframe tbody tr th {\n",
       "        vertical-align: top;\n",
       "    }\n",
       "\n",
       "    .dataframe thead th {\n",
       "        text-align: right;\n",
       "    }\n",
       "</style>\n",
       "<table border=\"1\" class=\"dataframe\">\n",
       "  <thead>\n",
       "    <tr style=\"text-align: right;\">\n",
       "      <th></th>\n",
       "      <th>Date</th>\n",
       "      <th>Open</th>\n",
       "      <th>High</th>\n",
       "      <th>Low</th>\n",
       "      <th>Close</th>\n",
       "      <th>Volume</th>\n",
       "    </tr>\n",
       "  </thead>\n",
       "  <tbody>\n",
       "    <tr>\n",
       "      <th>0</th>\n",
       "      <td>1/3/2017</td>\n",
       "      <td>778.81</td>\n",
       "      <td>789.63</td>\n",
       "      <td>775.80</td>\n",
       "      <td>786.14</td>\n",
       "      <td>1,657,300</td>\n",
       "    </tr>\n",
       "    <tr>\n",
       "      <th>1</th>\n",
       "      <td>1/4/2017</td>\n",
       "      <td>788.36</td>\n",
       "      <td>791.34</td>\n",
       "      <td>783.16</td>\n",
       "      <td>786.90</td>\n",
       "      <td>1,073,000</td>\n",
       "    </tr>\n",
       "    <tr>\n",
       "      <th>2</th>\n",
       "      <td>1/5/2017</td>\n",
       "      <td>786.08</td>\n",
       "      <td>794.48</td>\n",
       "      <td>785.02</td>\n",
       "      <td>794.02</td>\n",
       "      <td>1,335,200</td>\n",
       "    </tr>\n",
       "    <tr>\n",
       "      <th>3</th>\n",
       "      <td>1/6/2017</td>\n",
       "      <td>795.26</td>\n",
       "      <td>807.90</td>\n",
       "      <td>792.20</td>\n",
       "      <td>806.15</td>\n",
       "      <td>1,640,200</td>\n",
       "    </tr>\n",
       "    <tr>\n",
       "      <th>4</th>\n",
       "      <td>1/9/2017</td>\n",
       "      <td>806.40</td>\n",
       "      <td>809.97</td>\n",
       "      <td>802.83</td>\n",
       "      <td>806.65</td>\n",
       "      <td>1,272,400</td>\n",
       "    </tr>\n",
       "    <tr>\n",
       "      <th>5</th>\n",
       "      <td>1/10/2017</td>\n",
       "      <td>807.86</td>\n",
       "      <td>809.13</td>\n",
       "      <td>803.51</td>\n",
       "      <td>804.79</td>\n",
       "      <td>1,176,800</td>\n",
       "    </tr>\n",
       "    <tr>\n",
       "      <th>6</th>\n",
       "      <td>1/11/2017</td>\n",
       "      <td>805.00</td>\n",
       "      <td>808.15</td>\n",
       "      <td>801.37</td>\n",
       "      <td>807.91</td>\n",
       "      <td>1,065,900</td>\n",
       "    </tr>\n",
       "    <tr>\n",
       "      <th>7</th>\n",
       "      <td>1/12/2017</td>\n",
       "      <td>807.14</td>\n",
       "      <td>807.39</td>\n",
       "      <td>799.17</td>\n",
       "      <td>806.36</td>\n",
       "      <td>1,353,100</td>\n",
       "    </tr>\n",
       "    <tr>\n",
       "      <th>8</th>\n",
       "      <td>1/13/2017</td>\n",
       "      <td>807.48</td>\n",
       "      <td>811.22</td>\n",
       "      <td>806.69</td>\n",
       "      <td>807.88</td>\n",
       "      <td>1,099,200</td>\n",
       "    </tr>\n",
       "    <tr>\n",
       "      <th>9</th>\n",
       "      <td>1/17/2017</td>\n",
       "      <td>807.08</td>\n",
       "      <td>807.14</td>\n",
       "      <td>800.37</td>\n",
       "      <td>804.61</td>\n",
       "      <td>1,362,100</td>\n",
       "    </tr>\n",
       "    <tr>\n",
       "      <th>10</th>\n",
       "      <td>1/18/2017</td>\n",
       "      <td>805.81</td>\n",
       "      <td>806.21</td>\n",
       "      <td>800.99</td>\n",
       "      <td>806.07</td>\n",
       "      <td>1,294,400</td>\n",
       "    </tr>\n",
       "    <tr>\n",
       "      <th>11</th>\n",
       "      <td>1/19/2017</td>\n",
       "      <td>805.12</td>\n",
       "      <td>809.48</td>\n",
       "      <td>801.80</td>\n",
       "      <td>802.17</td>\n",
       "      <td>919,300</td>\n",
       "    </tr>\n",
       "    <tr>\n",
       "      <th>12</th>\n",
       "      <td>1/20/2017</td>\n",
       "      <td>806.91</td>\n",
       "      <td>806.91</td>\n",
       "      <td>801.69</td>\n",
       "      <td>805.02</td>\n",
       "      <td>1,670,000</td>\n",
       "    </tr>\n",
       "    <tr>\n",
       "      <th>13</th>\n",
       "      <td>1/23/2017</td>\n",
       "      <td>807.25</td>\n",
       "      <td>820.87</td>\n",
       "      <td>803.74</td>\n",
       "      <td>819.31</td>\n",
       "      <td>1,963,600</td>\n",
       "    </tr>\n",
       "    <tr>\n",
       "      <th>14</th>\n",
       "      <td>1/24/2017</td>\n",
       "      <td>822.30</td>\n",
       "      <td>825.90</td>\n",
       "      <td>817.82</td>\n",
       "      <td>823.87</td>\n",
       "      <td>1,474,000</td>\n",
       "    </tr>\n",
       "    <tr>\n",
       "      <th>15</th>\n",
       "      <td>1/25/2017</td>\n",
       "      <td>829.62</td>\n",
       "      <td>835.77</td>\n",
       "      <td>825.06</td>\n",
       "      <td>835.67</td>\n",
       "      <td>1,494,500</td>\n",
       "    </tr>\n",
       "    <tr>\n",
       "      <th>16</th>\n",
       "      <td>1/26/2017</td>\n",
       "      <td>837.81</td>\n",
       "      <td>838.00</td>\n",
       "      <td>827.01</td>\n",
       "      <td>832.15</td>\n",
       "      <td>2,973,900</td>\n",
       "    </tr>\n",
       "    <tr>\n",
       "      <th>17</th>\n",
       "      <td>1/27/2017</td>\n",
       "      <td>834.71</td>\n",
       "      <td>841.95</td>\n",
       "      <td>820.44</td>\n",
       "      <td>823.31</td>\n",
       "      <td>2,965,800</td>\n",
       "    </tr>\n",
       "    <tr>\n",
       "      <th>18</th>\n",
       "      <td>1/30/2017</td>\n",
       "      <td>814.66</td>\n",
       "      <td>815.84</td>\n",
       "      <td>799.80</td>\n",
       "      <td>802.32</td>\n",
       "      <td>3,246,600</td>\n",
       "    </tr>\n",
       "    <tr>\n",
       "      <th>19</th>\n",
       "      <td>1/31/2017</td>\n",
       "      <td>796.86</td>\n",
       "      <td>801.25</td>\n",
       "      <td>790.52</td>\n",
       "      <td>796.79</td>\n",
       "      <td>2,160,600</td>\n",
       "    </tr>\n",
       "  </tbody>\n",
       "</table>\n",
       "</div>"
      ],
      "text/plain": [
       "         Date    Open    High     Low   Close     Volume\n",
       "0    1/3/2017  778.81  789.63  775.80  786.14  1,657,300\n",
       "1    1/4/2017  788.36  791.34  783.16  786.90  1,073,000\n",
       "2    1/5/2017  786.08  794.48  785.02  794.02  1,335,200\n",
       "3    1/6/2017  795.26  807.90  792.20  806.15  1,640,200\n",
       "4    1/9/2017  806.40  809.97  802.83  806.65  1,272,400\n",
       "5   1/10/2017  807.86  809.13  803.51  804.79  1,176,800\n",
       "6   1/11/2017  805.00  808.15  801.37  807.91  1,065,900\n",
       "7   1/12/2017  807.14  807.39  799.17  806.36  1,353,100\n",
       "8   1/13/2017  807.48  811.22  806.69  807.88  1,099,200\n",
       "9   1/17/2017  807.08  807.14  800.37  804.61  1,362,100\n",
       "10  1/18/2017  805.81  806.21  800.99  806.07  1,294,400\n",
       "11  1/19/2017  805.12  809.48  801.80  802.17    919,300\n",
       "12  1/20/2017  806.91  806.91  801.69  805.02  1,670,000\n",
       "13  1/23/2017  807.25  820.87  803.74  819.31  1,963,600\n",
       "14  1/24/2017  822.30  825.90  817.82  823.87  1,474,000\n",
       "15  1/25/2017  829.62  835.77  825.06  835.67  1,494,500\n",
       "16  1/26/2017  837.81  838.00  827.01  832.15  2,973,900\n",
       "17  1/27/2017  834.71  841.95  820.44  823.31  2,965,800\n",
       "18  1/30/2017  814.66  815.84  799.80  802.32  3,246,600\n",
       "19  1/31/2017  796.86  801.25  790.52  796.79  2,160,600"
      ]
     },
     "execution_count": 24,
     "metadata": {},
     "output_type": "execute_result"
    }
   ],
   "source": [
    "# Getting the real stock price of 2017  \n",
    "dataset_test=pd.read_csv('Google_Stock_Price_Test.csv')  \n",
    "dataset_test"
   ]
  },
  {
   "cell_type": "code",
   "execution_count": 25,
   "id": "d03af475",
   "metadata": {},
   "outputs": [],
   "source": [
    "real_stock_price=dataset_test.iloc[:, 1:2].values  "
   ]
  },
  {
   "cell_type": "code",
   "execution_count": 26,
   "id": "32b90057",
   "metadata": {
    "scrolled": true
   },
   "outputs": [
    {
     "data": {
      "text/plain": [
       "array([[778.81],\n",
       "       [788.36],\n",
       "       [786.08],\n",
       "       [795.26],\n",
       "       [806.4 ],\n",
       "       [807.86],\n",
       "       [805.  ],\n",
       "       [807.14],\n",
       "       [807.48],\n",
       "       [807.08],\n",
       "       [805.81],\n",
       "       [805.12],\n",
       "       [806.91],\n",
       "       [807.25],\n",
       "       [822.3 ],\n",
       "       [829.62],\n",
       "       [837.81],\n",
       "       [834.71],\n",
       "       [814.66],\n",
       "       [796.86]])"
      ]
     },
     "execution_count": 26,
     "metadata": {},
     "output_type": "execute_result"
    }
   ],
   "source": [
    "real_stock_price"
   ]
  },
  {
   "cell_type": "code",
   "execution_count": 27,
   "id": "813c8697",
   "metadata": {},
   "outputs": [],
   "source": [
    "# Getting the predicted stock price of 2017  \n",
    "dataset_total=pd.concat((dataset_train['Open'],dataset_test['Open']),axis = 0)  "
   ]
  },
  {
   "cell_type": "code",
   "execution_count": 28,
   "id": "cd1e56e9",
   "metadata": {},
   "outputs": [
    {
     "data": {
      "text/plain": [
       "0     325.25\n",
       "1     331.27\n",
       "2     329.83\n",
       "3     328.34\n",
       "4     322.04\n",
       "       ...  \n",
       "15    829.62\n",
       "16    837.81\n",
       "17    834.71\n",
       "18    814.66\n",
       "19    796.86\n",
       "Name: Open, Length: 1278, dtype: float64"
      ]
     },
     "execution_count": 28,
     "metadata": {},
     "output_type": "execute_result"
    }
   ],
   "source": [
    "dataset_total"
   ]
  },
  {
   "cell_type": "code",
   "execution_count": 29,
   "id": "1ccff3a8",
   "metadata": {},
   "outputs": [],
   "source": [
    "inputs=dataset_total[len(dataset_total)-len(dataset_test) - 60:].values  "
   ]
  },
  {
   "cell_type": "code",
   "execution_count": 30,
   "id": "eb7081b5",
   "metadata": {},
   "outputs": [],
   "source": [
    "inputs=inputs.reshape(-1,1)  "
   ]
  },
  {
   "cell_type": "code",
   "execution_count": 31,
   "id": "71ece2df",
   "metadata": {},
   "outputs": [],
   "source": [
    "inputs=sc.transform(inputs) "
   ]
  },
  {
   "cell_type": "code",
   "execution_count": 32,
   "id": "62f11e26",
   "metadata": {},
   "outputs": [],
   "source": [
    "X_test = []  \n",
    "for i in range(60, 80):  \n",
    "    X_test.append(inputs[i-60:i, 0])  \n",
    "X_test = np.array(X_test)  \n",
    "X_test = np.reshape(X_test, (X_test.shape[0], X_test.shape[1], 1))  "
   ]
  },
  {
   "cell_type": "code",
   "execution_count": 33,
   "id": "6f2f9ebd",
   "metadata": {},
   "outputs": [
    {
     "name": "stdout",
     "output_type": "stream",
     "text": [
      "1/1 [==============================] - 8s 8s/step\n"
     ]
    }
   ],
   "source": [
    "predicted_stock_price = regressor.predict(X_test)  "
   ]
  },
  {
   "cell_type": "code",
   "execution_count": 34,
   "id": "fe289542",
   "metadata": {},
   "outputs": [],
   "source": [
    "predicted_stock_price = sc.inverse_transform(predicted_stock_price)  "
   ]
  },
  {
   "cell_type": "code",
   "execution_count": 35,
   "id": "63ae38fc",
   "metadata": {},
   "outputs": [
    {
     "data": {
      "image/png": "[encoded data removed]",
      "text/plain": [
       "<Figure size 640x480 with 1 Axes>"
      ]
     },
     "metadata": {},
     "output_type": "display_data"
    }
   ],
   "source": [
    "# Visualizing the results  \n",
    "plt.plot(real_stock_price, color = 'red', label = 'Real Google Stock Price')  \n",
    "plt.plot(predicted_stock_price, color = 'blue', label = 'Predicted Google Stock Price')  \n",
    "plt.title('Google Stock Price Prediction')  \n",
    "plt.xlabel('Time')  \n",
    "plt.ylabel('Google Stock Price')  \n",
    "plt.legend()  \n",
    "plt.show()  "
   ]
  },
  {
   "cell_type": "code",
   "execution_count": null,
   "id": "e4d868b1",
   "metadata": {},
   "outputs": [],
   "source": []
  }
 ],
 "metadata": {
  "kernelspec": {
   "display_name": "Python 3 (ipykernel)",
   "language": "python",
   "name": "python3"
  },
  "language_info": {
   "codemirror_mode": {
    "name": "ipython",
    "version": 3
   },
   "file_extension": ".py",
   "mimetype": "text/x-python",
   "name": "python",
   "nbconvert_exporter": "python",
   "pygments_lexer": "ipython3",
   "version": "3.10.9"
  }
 },
 "nbformat": 4,
 "nbformat_minor": 5
}
