{
 "cells": [
  {
   "cell_type": "markdown",
   "id": "6b85d743",
   "metadata": {},
   "source": [
    "Same Stacked LSTM model, rendered \"stateful\""
   ]
  },
  {
   "cell_type": "code",
   "execution_count": 1,
   "id": "084884bd",
   "metadata": {},
   "outputs": [],
   "source": [
    "from keras.models import Sequential  \n",
    "from keras.layers import LSTM, Dense  \n",
    "import numpy as np  "
   ]
  },
  {
   "cell_type": "code",
   "execution_count": 2,
   "id": "f5754ef8",
   "metadata": {},
   "outputs": [],
   "source": [
    "data_dim=16  \n",
    "timesteps=8  \n",
    "num_classes=10  \n",
    "batch_size=32  "
   ]
  },
  {
   "cell_type": "code",
   "execution_count": 3,
   "id": "0220ce88",
   "metadata": {},
   "outputs": [],
   "source": [
    "model=Sequential()  "
   ]
  },
  {
   "cell_type": "code",
   "execution_count": 4,
   "id": "35a41a2e",
   "metadata": {},
   "outputs": [],
   "source": [
    "model.add(LSTM(32, return_sequences=True, stateful=True,  \n",
    "               batch_input_shape=(batch_size, timesteps, data_dim)))  \n",
    "model.add(LSTM(32, return_sequences=True, stateful=True))  \n",
    "model.add(LSTM(32, stateful=True))  \n",
    "model.add(Dense(10, activation='softmax'))  "
   ]
  },
  {
   "cell_type": "code",
   "execution_count": 5,
   "id": "ff830b8a",
   "metadata": {},
   "outputs": [],
   "source": [
    "model.compile(loss='categorical_crossentropy',  \n",
    "              optimizer='rmsprop',  \n",
    "              metrics=['accuracy'])"
   ]
  },
  {
   "cell_type": "code",
   "execution_count": 6,
   "id": "a47e8359",
   "metadata": {},
   "outputs": [],
   "source": [
    "# Generate dummy training data  \n",
    "x_train = np.random.random((batch_size * 10, timesteps, data_dim))  \n",
    "y_train = np.random.random((batch_size * 10, num_classes))  "
   ]
  },
  {
   "cell_type": "code",
   "execution_count": 8,
   "id": "888fdcdb",
   "metadata": {},
   "outputs": [
    {
     "data": {
      "text/plain": [
       "(320, 8, 16)"
      ]
     },
     "execution_count": 8,
     "metadata": {},
     "output_type": "execute_result"
    }
   ],
   "source": [
    "x_train.shape"
   ]
  },
  {
   "cell_type": "code",
   "execution_count": 9,
   "id": "be455c42",
   "metadata": {},
   "outputs": [
    {
     "data": {
      "text/plain": [
       "(320, 10)"
      ]
     },
     "execution_count": 9,
     "metadata": {},
     "output_type": "execute_result"
    }
   ],
   "source": [
    "y_train.shape"
   ]
  },
  {
   "cell_type": "code",
   "execution_count": 10,
   "id": "38c5b375",
   "metadata": {},
   "outputs": [],
   "source": [
    "# Generate dummy validation data  \n",
    "x_val = np.random.random((batch_size * 3, timesteps, data_dim))  \n",
    "y_val = np.random.random((batch_size * 3, num_classes))  "
   ]
  },
  {
   "cell_type": "code",
   "execution_count": 11,
   "id": "7272ea2e",
   "metadata": {},
   "outputs": [
    {
     "name": "stdout",
     "output_type": "stream",
     "text": [
      "Epoch 1/5\n",
      "10/10 [==============================] - 13s 365ms/step - loss: 11.7671 - accuracy: 0.1031 - val_loss: 11.7112 - val_accuracy: 0.1146\n",
      "Epoch 2/5\n",
      "10/10 [==============================] - 1s 56ms/step - loss: 12.1717 - accuracy: 0.1031 - val_loss: 11.9047 - val_accuracy: 0.1146\n",
      "Epoch 3/5\n",
      "10/10 [==============================] - 1s 51ms/step - loss: 12.3077 - accuracy: 0.1031 - val_loss: 12.0138 - val_accuracy: 0.1146\n",
      "Epoch 4/5\n",
      "10/10 [==============================] - 1s 54ms/step - loss: 12.3926 - accuracy: 0.1031 - val_loss: 12.0889 - val_accuracy: 0.1146\n",
      "Epoch 5/5\n",
      "10/10 [==============================] - 1s 60ms/step - loss: 12.4499 - accuracy: 0.1031 - val_loss: 12.1366 - val_accuracy: 0.1146\n"
     ]
    },
    {
     "data": {
      "text/plain": [
       "<keras.callbacks.History at 0x2047651d2a0>"
      ]
     },
     "execution_count": 11,
     "metadata": {},
     "output_type": "execute_result"
    }
   ],
   "source": [
    "model.fit(x_train, y_train,  \n",
    "          batch_size=batch_size, epochs=5, shuffle=False,  \n",
    "          validation_data=(x_val, y_val))  "
   ]
  },
  {
   "cell_type": "code",
   "execution_count": null,
   "id": "696a52a6",
   "metadata": {},
   "outputs": [],
   "source": []
  }
 ],
 "metadata": {
  "kernelspec": {
   "display_name": "Python 3 (ipykernel)",
   "language": "python",
   "name": "python3"
  },
  "language_info": {
   "codemirror_mode": {
    "name": "ipython",
    "version": 3
   },
   "file_extension": ".py",
   "mimetype": "text/x-python",
   "name": "python",
   "nbconvert_exporter": "python",
   "pygments_lexer": "ipython3",
   "version": "3.10.9"
  }
 },
 "nbformat": 4,
 "nbformat_minor": 5
}
