{
 "cells": [
  {
   "cell_type": "markdown",
   "id": "f79503f3",
   "metadata": {},
   "source": [
    "# Multi-input and multi-output models"
   ]
  },
  {
   "cell_type": "code",
   "execution_count": 16,
   "id": "493f6f5f",
   "metadata": {},
   "outputs": [],
   "source": [
    "import keras\n",
    "from keras.layers import Input, Embedding, LSTM, Dense  \n",
    "from keras.models import Model  \n",
    "import numpy as np "
   ]
  },
  {
   "cell_type": "code",
   "execution_count": 7,
   "id": "f6d82672",
   "metadata": {},
   "outputs": [],
   "source": [
    "# Sets a random seed for reproducibility.\n",
    "np.random.seed(0)"
   ]
  },
  {
   "cell_type": "code",
   "execution_count": 8,
   "id": "9c18e32e",
   "metadata": {},
   "outputs": [],
   "source": [
    "# Headline input receive sequences of 100 integers in between 1 and 10000.  \n",
    "# Here we can name any layer by passing it a \"name\" argument.  \n",
    "main_input=Input(shape=(100,),dtype='int32',name='main_input')  "
   ]
  },
  {
   "cell_type": "code",
   "execution_count": 9,
   "id": "a81d54f2",
   "metadata": {},
   "outputs": [],
   "source": [
    "# The embedding layer encodes the input sequence into a sequence of dense 512-dimensional vectors.  \n",
    "x=Embedding(output_dim=512,input_dim=10000,input_length=100)(main_input)  "
   ]
  },
  {
   "cell_type": "code",
   "execution_count": 10,
   "id": "36d8cc08",
   "metadata": {},
   "outputs": [],
   "source": [
    "# The LSTM transforms the vector sequence into a single vector that contains the information about an entire sequence.  \n",
    "lstm_out=LSTM(32)(x)  "
   ]
  },
  {
   "cell_type": "code",
   "execution_count": 13,
   "id": "bcfb0d51",
   "metadata": {},
   "outputs": [],
   "source": [
    "auxiliary_output=Dense(1,activation='sigmoid',name='aux_output')(lstm_out)  "
   ]
  },
  {
   "cell_type": "code",
   "execution_count": 14,
   "id": "0853f5ed",
   "metadata": {},
   "outputs": [],
   "source": [
    "auxiliary_input=Input(shape=(5,),name='aux_input')  "
   ]
  },
  {
   "cell_type": "code",
   "execution_count": 17,
   "id": "3d2a81ee",
   "metadata": {},
   "outputs": [],
   "source": [
    "x=keras.layers.concatenate([lstm_out,auxiliary_input])  "
   ]
  },
  {
   "cell_type": "code",
   "execution_count": 18,
   "id": "dded1976",
   "metadata": {},
   "outputs": [],
   "source": [
    "# Stacks a densely-connected deep network on the top.  \n",
    "x=Dense(64,activation='relu')(x)  \n",
    "x=Dense(64,activation='relu')(x)  \n",
    "x=Dense(64,activation='relu')(x)  "
   ]
  },
  {
   "cell_type": "code",
   "execution_count": 19,
   "id": "f1950303",
   "metadata": {},
   "outputs": [],
   "source": [
    "# Then add the main logistic regression layer.  \n",
    "main_output=Dense(1,activation='sigmoid',name='main_output')(x)  "
   ]
  },
  {
   "cell_type": "code",
   "execution_count": 20,
   "id": "0b27e3c3",
   "metadata": {},
   "outputs": [],
   "source": [
    "# Defines a model with two inputs and outputs  \n",
    "model=Model(inputs=[main_input, auxiliary_input],outputs=[main_output, auxiliary_output])  "
   ]
  },
  {
   "cell_type": "code",
   "execution_count": 21,
   "id": "eeb58a7e",
   "metadata": {},
   "outputs": [],
   "source": [
    "model.compile(optimizer='rmsprop',loss='binary_crossentropy',  \n",
    "              loss_weights=[1., 0.2])  "
   ]
  },
  {
   "cell_type": "code",
   "execution_count": 22,
   "id": "9744ba75",
   "metadata": {},
   "outputs": [],
   "source": [
    "headline_data=np.round(np.abs(np.random.rand(12,100)*100))  \n",
    "additional_data=np.random.randn(12,5)  \n",
    "headline_labels=np.random.randn(12, 1)  \n",
    "additional_labels=np.random.randn(12, 1)  "
   ]
  },
  {
   "cell_type": "code",
   "execution_count": 23,
   "id": "be406463",
   "metadata": {},
   "outputs": [
    {
     "name": "stdout",
     "output_type": "stream",
     "text": [
      "Epoch 1/50\n",
      "1/1 [==============================] - 7s 7s/step - loss: 0.9159 - main_output_loss: 0.7759 - aux_output_loss: 0.7002\n",
      "Epoch 2/50\n",
      "1/1 [==============================] - 0s 376ms/step - loss: 0.8174 - main_output_loss: 0.6818 - aux_output_loss: 0.6780\n",
      "Epoch 3/50\n",
      "1/1 [==============================] - 0s 358ms/step - loss: 0.7557 - main_output_loss: 0.6253 - aux_output_loss: 0.6525\n",
      "Epoch 4/50\n",
      "1/1 [==============================] - 0s 352ms/step - loss: 0.7050 - main_output_loss: 0.5798 - aux_output_loss: 0.6260\n",
      "Epoch 5/50\n",
      "1/1 [==============================] - 0s 364ms/step - loss: 0.6569 - main_output_loss: 0.5368 - aux_output_loss: 0.6004\n",
      "Epoch 6/50\n",
      "1/1 [==============================] - 0s 331ms/step - loss: 0.6101 - main_output_loss: 0.4959 - aux_output_loss: 0.5710\n",
      "Epoch 7/50\n",
      "1/1 [==============================] - 0s 373ms/step - loss: 0.5635 - main_output_loss: 0.4558 - aux_output_loss: 0.5384\n",
      "Epoch 8/50\n",
      "1/1 [==============================] - 0s 392ms/step - loss: 0.5129 - main_output_loss: 0.4127 - aux_output_loss: 0.5011\n",
      "Epoch 9/50\n",
      "1/1 [==============================] - 0s 353ms/step - loss: 0.4578 - main_output_loss: 0.3655 - aux_output_loss: 0.4615\n",
      "Epoch 10/50\n",
      "1/1 [==============================] - 0s 371ms/step - loss: 0.3980 - main_output_loss: 0.3146 - aux_output_loss: 0.4169\n",
      "Epoch 11/50\n",
      "1/1 [==============================] - 0s 354ms/step - loss: 0.3246 - main_output_loss: 0.2521 - aux_output_loss: 0.3623\n",
      "Epoch 12/50\n",
      "1/1 [==============================] - 0s 371ms/step - loss: 0.2351 - main_output_loss: 0.1740 - aux_output_loss: 0.3058\n",
      "Epoch 13/50\n",
      "1/1 [==============================] - 0s 351ms/step - loss: 0.1362 - main_output_loss: 0.0879 - aux_output_loss: 0.2416\n",
      "Epoch 14/50\n",
      "1/1 [==============================] - 0s 393ms/step - loss: 0.0321 - main_output_loss: -0.0069 - aux_output_loss: 0.1952\n",
      "Epoch 15/50\n",
      "1/1 [==============================] - 0s 347ms/step - loss: -0.0862 - main_output_loss: -0.1163 - aux_output_loss: 0.1504\n",
      "Epoch 16/50\n",
      "1/1 [==============================] - 0s 344ms/step - loss: -0.2125 - main_output_loss: -0.2374 - aux_output_loss: 0.1245\n",
      "Epoch 17/50\n",
      "1/1 [==============================] - 0s 349ms/step - loss: -0.3493 - main_output_loss: -0.3686 - aux_output_loss: 0.0961\n",
      "Epoch 18/50\n",
      "1/1 [==============================] - 0s 367ms/step - loss: -0.5086 - main_output_loss: -0.5257 - aux_output_loss: 0.0851\n",
      "Epoch 19/50\n",
      "1/1 [==============================] - 0s 344ms/step - loss: -0.6924 - main_output_loss: -0.7079 - aux_output_loss: 0.0772\n",
      "Epoch 20/50\n",
      "1/1 [==============================] - 0s 350ms/step - loss: -0.9630 - main_output_loss: -0.9754 - aux_output_loss: 0.0621\n",
      "Epoch 21/50\n",
      "1/1 [==============================] - 0s 352ms/step - loss: -1.2703 - main_output_loss: -1.2844 - aux_output_loss: 0.0707\n",
      "Epoch 22/50\n",
      "1/1 [==============================] - 0s 342ms/step - loss: -1.6331 - main_output_loss: -1.6455 - aux_output_loss: 0.0619\n",
      "Epoch 23/50\n",
      "1/1 [==============================] - 0s 366ms/step - loss: -1.9771 - main_output_loss: -2.0002 - aux_output_loss: 0.1155\n",
      "Epoch 24/50\n",
      "1/1 [==============================] - 0s 365ms/step - loss: -2.5645 - main_output_loss: -2.5765 - aux_output_loss: 0.0601\n",
      "Epoch 25/50\n",
      "1/1 [==============================] - 0s 369ms/step - loss: -3.1297 - main_output_loss: -3.1585 - aux_output_loss: 0.1438\n",
      "Epoch 26/50\n",
      "1/1 [==============================] - 0s 419ms/step - loss: -3.8403 - main_output_loss: -3.8553 - aux_output_loss: 0.0750\n",
      "Epoch 27/50\n",
      "1/1 [==============================] - 1s 684ms/step - loss: -4.4320 - main_output_loss: -4.4750 - aux_output_loss: 0.2147\n",
      "Epoch 28/50\n",
      "1/1 [==============================] - 1s 675ms/step - loss: -5.4333 - main_output_loss: -5.4520 - aux_output_loss: 0.0937\n",
      "Epoch 29/50\n",
      "1/1 [==============================] - 0s 380ms/step - loss: -6.3244 - main_output_loss: -6.3575 - aux_output_loss: 0.1655\n",
      "Epoch 30/50\n",
      "1/1 [==============================] - 0s 425ms/step - loss: -7.1972 - main_output_loss: -7.2156 - aux_output_loss: 0.0919\n",
      "Epoch 31/50\n",
      "1/1 [==============================] - 0s 425ms/step - loss: -7.8105 - main_output_loss: -7.8782 - aux_output_loss: 0.3389\n",
      "Epoch 32/50\n",
      "1/1 [==============================] - 0s 459ms/step - loss: -9.2795 - main_output_loss: -9.3297 - aux_output_loss: 0.2510\n",
      "Epoch 33/50\n",
      "1/1 [==============================] - 0s 398ms/step - loss: -10.5542 - main_output_loss: -10.5844 - aux_output_loss: 0.1510\n",
      "Epoch 34/50\n",
      "1/1 [==============================] - 0s 420ms/step - loss: -11.8960 - main_output_loss: -11.9341 - aux_output_loss: 0.1905\n",
      "Epoch 35/50\n",
      "1/1 [==============================] - 1s 528ms/step - loss: -13.2591 - main_output_loss: -13.2862 - aux_output_loss: 0.1354\n",
      "Epoch 36/50\n",
      "1/1 [==============================] - 0s 459ms/step - loss: -14.5119 - main_output_loss: -14.5755 - aux_output_loss: 0.3181\n",
      "Epoch 37/50\n",
      "1/1 [==============================] - 0s 382ms/step - loss: -16.3059 - main_output_loss: -16.3528 - aux_output_loss: 0.2346\n",
      "Epoch 38/50\n",
      "1/1 [==============================] - 0s 443ms/step - loss: -17.8406 - main_output_loss: -17.8675 - aux_output_loss: 0.1342\n",
      "Epoch 39/50\n",
      "1/1 [==============================] - 0s 490ms/step - loss: -19.2952 - main_output_loss: -19.3740 - aux_output_loss: 0.3942\n",
      "Epoch 40/50\n",
      "1/1 [==============================] - 0s 378ms/step - loss: -21.3160 - main_output_loss: -21.3862 - aux_output_loss: 0.3509\n",
      "Epoch 41/50\n",
      "1/1 [==============================] - 0s 361ms/step - loss: -23.3585 - main_output_loss: -23.4201 - aux_output_loss: 0.3077\n",
      "Epoch 42/50\n",
      "1/1 [==============================] - 0s 385ms/step - loss: -25.4841 - main_output_loss: -25.5329 - aux_output_loss: 0.2443\n",
      "Epoch 43/50\n",
      "1/1 [==============================] - 1s 801ms/step - loss: -27.6229 - main_output_loss: -27.6677 - aux_output_loss: 0.2241\n",
      "Epoch 44/50\n",
      "1/1 [==============================] - 0s 406ms/step - loss: -29.8345 - main_output_loss: -29.8838 - aux_output_loss: 0.2469\n",
      "Epoch 45/50\n",
      "1/1 [==============================] - 0s 357ms/step - loss: -32.0544 - main_output_loss: -32.0923 - aux_output_loss: 0.1891\n",
      "Epoch 46/50\n",
      "1/1 [==============================] - 0s 361ms/step - loss: -34.2753 - main_output_loss: -34.3485 - aux_output_loss: 0.3662\n",
      "Epoch 47/50\n",
      "1/1 [==============================] - 0s 403ms/step - loss: -36.8580 - main_output_loss: -36.9253 - aux_output_loss: 0.3365\n",
      "Epoch 48/50\n",
      "1/1 [==============================] - 0s 362ms/step - loss: -39.5467 - main_output_loss: -39.6054 - aux_output_loss: 0.2935\n",
      "Epoch 49/50\n",
      "1/1 [==============================] - 0s 374ms/step - loss: -42.2722 - main_output_loss: -42.3192 - aux_output_loss: 0.2351\n",
      "Epoch 50/50\n",
      "1/1 [==============================] - 1s 606ms/step - loss: -45.0186 - main_output_loss: -45.0778 - aux_output_loss: 0.2961\n"
     ]
    },
    {
     "data": {
      "text/plain": [
       "<keras.callbacks.History at 0x29d605686a0>"
      ]
     },
     "execution_count": 23,
     "metadata": {},
     "output_type": "execute_result"
    }
   ],
   "source": [
    "model.fit([headline_data,additional_data],[headline_labels,additional_labels],  \n",
    "          epochs=50,batch_size=32)   "
   ]
  },
  {
   "cell_type": "code",
   "execution_count": 24,
   "id": "001eb115",
   "metadata": {},
   "outputs": [],
   "source": [
    "model.compile(optimizer='rmsprop',  \n",
    "              loss={'main_output': 'binary_crossentropy', 'aux_output': 'binary_crossentropy'},  \n",
    "              loss_weights={'main_output': 1., 'aux_output': 0.2}) "
   ]
  },
  {
   "cell_type": "code",
   "execution_count": 25,
   "id": "d443e51c",
   "metadata": {},
   "outputs": [
    {
     "name": "stdout",
     "output_type": "stream",
     "text": [
      "Epoch 1/50\n",
      "1/1 [==============================] - 7s 7s/step - loss: -47.8952 - main_output_loss: -47.9416 - aux_output_loss: 0.2320\n",
      "Epoch 2/50\n",
      "1/1 [==============================] - 0s 359ms/step - loss: -54.0891 - main_output_loss: -54.1727 - aux_output_loss: 0.4179\n",
      "Epoch 3/50\n",
      "1/1 [==============================] - 0s 366ms/step - loss: -60.5162 - main_output_loss: -60.5918 - aux_output_loss: 0.3777\n",
      "Epoch 4/50\n",
      "1/1 [==============================] - 0s 363ms/step - loss: -65.8361 - main_output_loss: -65.9080 - aux_output_loss: 0.3593\n",
      "Epoch 5/50\n",
      "1/1 [==============================] - 0s 340ms/step - loss: -70.8913 - main_output_loss: -70.9590 - aux_output_loss: 0.3386\n",
      "Epoch 6/50\n",
      "1/1 [==============================] - 0s 356ms/step - loss: -75.8200 - main_output_loss: -75.8839 - aux_output_loss: 0.3196\n",
      "Epoch 7/50\n",
      "1/1 [==============================] - 0s 351ms/step - loss: -80.7183 - main_output_loss: -80.7750 - aux_output_loss: 0.2833\n",
      "Epoch 8/50\n",
      "1/1 [==============================] - 0s 350ms/step - loss: -85.5525 - main_output_loss: -85.6111 - aux_output_loss: 0.2931\n",
      "Epoch 9/50\n",
      "1/1 [==============================] - 0s 354ms/step - loss: -90.3292 - main_output_loss: -90.3769 - aux_output_loss: 0.2387\n",
      "Epoch 10/50\n",
      "1/1 [==============================] - 0s 352ms/step - loss: -95.0857 - main_output_loss: -95.1593 - aux_output_loss: 0.3678\n",
      "Epoch 11/50\n",
      "1/1 [==============================] - 0s 367ms/step - loss: -100.1533 - main_output_loss: -100.2249 - aux_output_loss: 0.3577\n",
      "Epoch 12/50\n",
      "1/1 [==============================] - 0s 349ms/step - loss: -105.2195 - main_output_loss: -105.2880 - aux_output_loss: 0.3424\n",
      "Epoch 13/50\n",
      "1/1 [==============================] - 0s 355ms/step - loss: -110.3592 - main_output_loss: -110.4240 - aux_output_loss: 0.3240\n",
      "Epoch 14/50\n",
      "1/1 [==============================] - 0s 352ms/step - loss: -115.6043 - main_output_loss: -115.6656 - aux_output_loss: 0.3062\n",
      "Epoch 15/50\n",
      "1/1 [==============================] - 0s 363ms/step - loss: -120.9270 - main_output_loss: -120.9837 - aux_output_loss: 0.2834\n",
      "Epoch 16/50\n",
      "1/1 [==============================] - 0s 367ms/step - loss: -126.2909 - main_output_loss: -126.3530 - aux_output_loss: 0.3103\n",
      "Epoch 17/50\n",
      "1/1 [==============================] - 0s 366ms/step - loss: -131.4196 - main_output_loss: -131.4698 - aux_output_loss: 0.2512\n",
      "Epoch 18/50\n",
      "1/1 [==============================] - 0s 378ms/step - loss: -137.1132 - main_output_loss: -137.1892 - aux_output_loss: 0.3799\n",
      "Epoch 19/50\n",
      "1/1 [==============================] - 0s 366ms/step - loss: -142.9955 - main_output_loss: -143.0707 - aux_output_loss: 0.3758\n",
      "Epoch 20/50\n",
      "1/1 [==============================] - 0s 348ms/step - loss: -148.9398 - main_output_loss: -149.0141 - aux_output_loss: 0.3719\n",
      "Epoch 21/50\n",
      "1/1 [==============================] - 0s 373ms/step - loss: -155.0118 - main_output_loss: -155.0853 - aux_output_loss: 0.3672\n",
      "Epoch 22/50\n",
      "1/1 [==============================] - 0s 353ms/step - loss: -161.2101 - main_output_loss: -161.2826 - aux_output_loss: 0.3624\n",
      "Epoch 23/50\n",
      "1/1 [==============================] - 0s 351ms/step - loss: -167.5380 - main_output_loss: -167.6095 - aux_output_loss: 0.3574\n",
      "Epoch 24/50\n",
      "1/1 [==============================] - 0s 345ms/step - loss: -174.0095 - main_output_loss: -174.0800 - aux_output_loss: 0.3525\n",
      "Epoch 25/50\n",
      "1/1 [==============================] - 0s 350ms/step - loss: -180.6290 - main_output_loss: -180.6985 - aux_output_loss: 0.3476\n",
      "Epoch 26/50\n",
      "1/1 [==============================] - 0s 357ms/step - loss: -187.4001 - main_output_loss: -187.4688 - aux_output_loss: 0.3433\n",
      "Epoch 27/50\n",
      "1/1 [==============================] - 0s 378ms/step - loss: -194.3276 - main_output_loss: -194.3953 - aux_output_loss: 0.3390\n",
      "Epoch 28/50\n",
      "1/1 [==============================] - 0s 349ms/step - loss: -201.4115 - main_output_loss: -201.4787 - aux_output_loss: 0.3360\n",
      "Epoch 29/50\n",
      "1/1 [==============================] - 0s 359ms/step - loss: -208.6453 - main_output_loss: -208.7116 - aux_output_loss: 0.3312\n",
      "Epoch 30/50\n",
      "1/1 [==============================] - 0s 355ms/step - loss: -215.9785 - main_output_loss: -216.0458 - aux_output_loss: 0.3364\n",
      "Epoch 31/50\n",
      "1/1 [==============================] - 0s 377ms/step - loss: -223.6276 - main_output_loss: -223.6928 - aux_output_loss: 0.3259\n",
      "Epoch 32/50\n",
      "1/1 [==============================] - 0s 486ms/step - loss: -231.3678 - main_output_loss: -231.4345 - aux_output_loss: 0.3335\n",
      "Epoch 33/50\n",
      "1/1 [==============================] - 1s 624ms/step - loss: -239.1850 - main_output_loss: -239.2501 - aux_output_loss: 0.3258\n",
      "Epoch 34/50\n",
      "1/1 [==============================] - 1s 562ms/step - loss: -247.0953 - main_output_loss: -247.1661 - aux_output_loss: 0.3542\n",
      "Epoch 35/50\n",
      "1/1 [==============================] - 0s 399ms/step - loss: -255.5248 - main_output_loss: -255.5954 - aux_output_loss: 0.3529\n",
      "Epoch 36/50\n",
      "1/1 [==============================] - 0s 375ms/step - loss: -264.0708 - main_output_loss: -264.1402 - aux_output_loss: 0.3466\n",
      "Epoch 37/50\n",
      "1/1 [==============================] - 0s 367ms/step - loss: -272.7638 - main_output_loss: -272.8329 - aux_output_loss: 0.3455\n",
      "Epoch 38/50\n",
      "1/1 [==============================] - 0s 374ms/step - loss: -281.6119 - main_output_loss: -281.6810 - aux_output_loss: 0.3456\n",
      "Epoch 39/50\n",
      "1/1 [==============================] - 0s 419ms/step - loss: -290.6462 - main_output_loss: -290.7147 - aux_output_loss: 0.3424\n",
      "Epoch 40/50\n",
      "1/1 [==============================] - 0s 446ms/step - loss: -299.8071 - main_output_loss: -299.8760 - aux_output_loss: 0.3442\n",
      "Epoch 41/50\n",
      "1/1 [==============================] - 0s 393ms/step - loss: -309.1259 - main_output_loss: -309.1949 - aux_output_loss: 0.3454\n",
      "Epoch 42/50\n",
      "1/1 [==============================] - 0s 376ms/step - loss: -318.7567 - main_output_loss: -318.8238 - aux_output_loss: 0.3358\n",
      "Epoch 43/50\n",
      "1/1 [==============================] - 0s 395ms/step - loss: -328.3519 - main_output_loss: -328.4239 - aux_output_loss: 0.3597\n",
      "Epoch 44/50\n",
      "1/1 [==============================] - 0s 440ms/step - loss: -338.5843 - main_output_loss: -338.6555 - aux_output_loss: 0.3563\n",
      "Epoch 45/50\n",
      "1/1 [==============================] - 0s 483ms/step - loss: -348.8412 - main_output_loss: -348.9143 - aux_output_loss: 0.3658\n",
      "Epoch 46/50\n",
      "1/1 [==============================] - 0s 418ms/step - loss: -359.1748 - main_output_loss: -359.2478 - aux_output_loss: 0.3650\n",
      "Epoch 47/50\n",
      "1/1 [==============================] - 1s 538ms/step - loss: -369.9315 - main_output_loss: -370.0040 - aux_output_loss: 0.3621\n",
      "Epoch 48/50\n",
      "1/1 [==============================] - 0s 474ms/step - loss: -380.8060 - main_output_loss: -380.8792 - aux_output_loss: 0.3656\n",
      "Epoch 49/50\n",
      "1/1 [==============================] - 1s 710ms/step - loss: -391.7708 - main_output_loss: -391.8424 - aux_output_loss: 0.3583\n",
      "Epoch 50/50\n",
      "1/1 [==============================] - 1s 564ms/step - loss: -402.7697 - main_output_loss: -402.8466 - aux_output_loss: 0.3846\n"
     ]
    },
    {
     "data": {
      "text/plain": [
       "<keras.callbacks.History at 0x29d647fafe0>"
      ]
     },
     "execution_count": 25,
     "metadata": {},
     "output_type": "execute_result"
    }
   ],
   "source": [
    "# And train it through:  \n",
    "model.fit({'main_input': headline_data, 'aux_input': additional_data},  \n",
    "          {'main_output': headline_labels, 'aux_output': additional_labels},  \n",
    "          epochs=50, batch_size=32)  "
   ]
  },
  {
   "cell_type": "code",
   "execution_count": 26,
   "id": "a3cfdd2d",
   "metadata": {},
   "outputs": [
    {
     "name": "stdout",
     "output_type": "stream",
     "text": [
      "1/1 [==============================] - 8s 8s/step\n"
     ]
    },
    {
     "data": {
      "text/plain": [
       "[array([[0.        ],\n",
       "        [0.        ],\n",
       "        [0.56818944],\n",
       "        [0.        ],\n",
       "        [0.        ],\n",
       "        [1.        ],\n",
       "        [0.        ],\n",
       "        [0.53192586],\n",
       "        [0.        ],\n",
       "        [0.99933976],\n",
       "        [1.        ],\n",
       "        [0.        ]], dtype=float32),\n",
       " array([[0.09269953],\n",
       "        [0.0926255 ],\n",
       "        [0.29168135],\n",
       "        [0.09271722],\n",
       "        [0.09289913],\n",
       "        [0.28015387],\n",
       "        [0.09267269],\n",
       "        [0.3980899 ],\n",
       "        [0.09262726],\n",
       "        [0.36039716],\n",
       "        [0.11928453],\n",
       "        [0.09266723]], dtype=float32)]"
      ]
     },
     "execution_count": 26,
     "metadata": {},
     "output_type": "execute_result"
    }
   ],
   "source": [
    "model.predict({'main_input': headline_data, 'aux_input': additional_data})  "
   ]
  },
  {
   "cell_type": "code",
   "execution_count": 27,
   "id": "4b7cbc6a",
   "metadata": {},
   "outputs": [
    {
     "name": "stdout",
     "output_type": "stream",
     "text": [
      "1/1 [==============================] - 1s 1s/step\n"
     ]
    }
   ],
   "source": [
    "pred = model.predict([headline_data, additional_data])  "
   ]
  },
  {
   "cell_type": "code",
   "execution_count": null,
   "id": "fd53a786",
   "metadata": {},
   "outputs": [],
   "source": []
  }
 ],
 "metadata": {
  "kernelspec": {
   "display_name": "Python 3 (ipykernel)",
   "language": "python",
   "name": "python3"
  },
  "language_info": {
   "codemirror_mode": {
    "name": "ipython",
    "version": 3
   },
   "file_extension": ".py",
   "mimetype": "text/x-python",
   "name": "python",
   "nbconvert_exporter": "python",
   "pygments_lexer": "ipython3",
   "version": "3.10.9"
  }
 },
 "nbformat": 4,
 "nbformat_minor": 5
}
