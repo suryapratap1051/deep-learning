{
 "cells": [
  {
   "cell_type": "markdown",
   "id": "0703078d",
   "metadata": {},
   "source": [
    "A densely-connected network"
   ]
  },
  {
   "cell_type": "code",
   "execution_count": 1,
   "id": "8f1e5e8f",
   "metadata": {},
   "outputs": [],
   "source": [
    "from keras.layers import Input,Dense  \n",
    "from keras.models import Model  "
   ]
  },
  {
   "cell_type": "code",
   "execution_count": 2,
   "id": "8cfdf832",
   "metadata": {},
   "outputs": [],
   "source": [
    "# Returns a Tensor  \n",
    "inputs=Input(shape=(784,))  "
   ]
  },
  {
   "cell_type": "code",
   "execution_count": 3,
   "id": "2f720b6c",
   "metadata": {},
   "outputs": [
    {
     "data": {
      "text/plain": [
       "<KerasTensor: shape=(None, 784) dtype=float32 (created by layer 'input_1')>"
      ]
     },
     "execution_count": 3,
     "metadata": {},
     "output_type": "execute_result"
    }
   ],
   "source": [
    "inputs"
   ]
  },
  {
   "cell_type": "code",
   "execution_count": 4,
   "id": "78ba09a7",
   "metadata": {},
   "outputs": [],
   "source": [
    "# An instance layer is callable on a tensor and returns a tensor  \n",
    "output_1=Dense(64, activation='relu')(inputs)  \n",
    "output_2=Dense(64, activation='relu')(output_1)  \n",
    "predictions=Dense(10, activation='softmax')(output_2)  "
   ]
  },
  {
   "cell_type": "code",
   "execution_count": 5,
   "id": "0be4a4aa",
   "metadata": {},
   "outputs": [
    {
     "ename": "NameError",
     "evalue": "name 'data' is not defined",
     "output_type": "error",
     "traceback": [
      "\u001b[1;31m---------------------------------------------------------------------------\u001b[0m",
      "\u001b[1;31mNameError\u001b[0m                                 Traceback (most recent call last)",
      "Cell \u001b[1;32mIn[5], line 6\u001b[0m\n\u001b[0;32m      2\u001b[0m model\u001b[38;5;241m=\u001b[39mModel(inputs\u001b[38;5;241m=\u001b[39minputs, outputs\u001b[38;5;241m=\u001b[39mpredictions)  \n\u001b[0;32m      3\u001b[0m model\u001b[38;5;241m.\u001b[39mcompile(optimizer\u001b[38;5;241m=\u001b[39m\u001b[38;5;124m'\u001b[39m\u001b[38;5;124mrmsprop\u001b[39m\u001b[38;5;124m'\u001b[39m,  \n\u001b[0;32m      4\u001b[0m               loss\u001b[38;5;241m=\u001b[39m\u001b[38;5;124m'\u001b[39m\u001b[38;5;124mcategorical_crossentropy\u001b[39m\u001b[38;5;124m'\u001b[39m,  \n\u001b[0;32m      5\u001b[0m               metrics\u001b[38;5;241m=\u001b[39m[\u001b[38;5;124m'\u001b[39m\u001b[38;5;124maccuracy\u001b[39m\u001b[38;5;124m'\u001b[39m])  \n\u001b[1;32m----> 6\u001b[0m model\u001b[38;5;241m.\u001b[39mfit(\u001b[43mdata\u001b[49m, labels)\n",
      "\u001b[1;31mNameError\u001b[0m: name 'data' is not defined"
     ]
    }
   ],
   "source": [
    "# Creates a model that includes the Input layer and three Dense layers  \n",
    "model=Model(inputs=inputs, outputs=predictions)  \n",
    "model.compile(optimizer='rmsprop',  \n",
    "              loss='categorical_crossentropy',  \n",
    "              metrics=['accuracy'])  \n",
    "model.fit(data, labels)  # start training  "
   ]
  },
  {
   "cell_type": "code",
   "execution_count": 6,
   "id": "639d4d42",
   "metadata": {},
   "outputs": [],
   "source": [
    "x = Input(shape=(784,))  \n",
    "# It works, and returns the 10-way softmax we defined above.  \n",
    "y = model(x)  "
   ]
  },
  {
   "cell_type": "code",
   "execution_count": 7,
   "id": "8625ea8d",
   "metadata": {},
   "outputs": [],
   "source": [
    "from keras.layers import TimeDistributed  \n",
    "  \n",
    "# Input tensor for sequences of 20 timesteps, such that each contains a 784-dimensional vector  \n",
    "input_sequences = Input(shape=(20, 784))  \n",
    "  \n",
    "# It applies our previous model to every timestep in the input sequences. The output of the previous model was a 10-way softmax, so the output of the layer given below will be a sequence of 20 vectors of size 10.  \n",
    "processed_sequences = TimeDistributed(model)(input_sequences)  "
   ]
  },
  {
   "cell_type": "markdown",
   "id": "5dc1840a",
   "metadata": {},
   "source": [
    "# Multi-input and multi-output models"
   ]
  },
  {
   "cell_type": "code",
   "execution_count": null,
   "id": "fefda73f",
   "metadata": {},
   "outputs": [],
   "source": []
  }
 ],
 "metadata": {
  "kernelspec": {
   "display_name": "Python 3 (ipykernel)",
   "language": "python",
   "name": "python3"
  },
  "language_info": {
   "codemirror_mode": {
    "name": "ipython",
    "version": 3
   },
   "file_extension": ".py",
   "mimetype": "text/x-python",
   "name": "python",
   "nbconvert_exporter": "python",
   "pygments_lexer": "ipython3",
   "version": "3.10.9"
  }
 },
 "nbformat": 4,
 "nbformat_minor": 5
}
