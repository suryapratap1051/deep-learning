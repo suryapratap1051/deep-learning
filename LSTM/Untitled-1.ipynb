{
 "cells": [
  {
   "cell_type": "code",
   "execution_count": 2,
   "id": "b6c87a90",
   "metadata": {},
   "outputs": [],
   "source": [
    "from keras.models import Sequential   \n",
    "from keras.layers import LSTM, Dense   \n",
    "import numpy as np  "
   ]
  },
  {
   "cell_type": "code",
   "execution_count": 3,
   "id": "bc6dfa05",
   "metadata": {},
   "outputs": [],
   "source": [
    "data_dim=16  \n",
    "timesteps=8  \n",
    "num_classes=10  "
   ]
  },
  {
   "cell_type": "code",
   "execution_count": 6,
   "id": "26afeacf",
   "metadata": {},
   "outputs": [],
   "source": [
    " model=Sequential ()  "
   ]
  },
  {
   "cell_type": "code",
   "execution_count": 9,
   "id": "fcfb4def",
   "metadata": {},
   "outputs": [],
   "source": [
    "model.add(LSTM(32, return_sequences=True, input_shape=(timesteps, data_dim)))\n",
    "model.add(LSTM(32, return_sequences=True))\n",
    "model.add(LSTM(32))\n",
    "model.add(Dense(10, activation='softmax'))"
   ]
  },
  {
   "cell_type": "code",
   "execution_count": 10,
   "id": "155d1dcf",
   "metadata": {},
   "outputs": [],
   "source": [
    "model.compile(loss='categorical_crossentropy',  \n",
    "                         optimizer='rmsprop',  \n",
    "                         metrics=['accuracy'])  "
   ]
  },
  {
   "cell_type": "code",
   "execution_count": null,
   "id": "d107682f",
   "metadata": {},
   "outputs": [],
   "source": [
    "#generate dummy training data  \n",
    "x_train = np.random.random((1000, timesteps, data_dim))  \n",
    "y_train = np.random.random((1000, num_classes))  "
   ]
  },
  {
   "cell_type": "code",
   "execution_count": 1,
   "id": "c65e7bd1",
   "metadata": {},
   "outputs": [
    {
     "ename": "NameError",
     "evalue": "name 'np' is not defined",
     "output_type": "error",
     "traceback": [
      "\u001b[1;31m---------------------------------------------------------------------------\u001b[0m",
      "\u001b[1;31mNameError\u001b[0m                                 Traceback (most recent call last)",
      "Cell \u001b[1;32mIn[1], line 2\u001b[0m\n\u001b[0;32m      1\u001b[0m \u001b[38;5;66;03m#generate dummy validation data  \u001b[39;00m\n\u001b[1;32m----> 2\u001b[0m x_val \u001b[38;5;241m=\u001b[39m \u001b[43mnp\u001b[49m\u001b[38;5;241m.\u001b[39mrandom\u001b[38;5;241m.\u001b[39mrandom((\u001b[38;5;241m100\u001b[39m, timesteps, data_dim))  \n\u001b[0;32m      3\u001b[0m y_val \u001b[38;5;241m=\u001b[39m np\u001b[38;5;241m.\u001b[39mrandom\u001b[38;5;241m.\u001b[39mrandom((\u001b[38;5;241m100\u001b[39m, num_classes))  \n\u001b[0;32m      4\u001b[0m model\u001b[38;5;241m.\u001b[39mfit(x_train, y_train,   \n\u001b[0;32m      5\u001b[0m                 batch_size\u001b[38;5;241m=\u001b[39m\u001b[38;5;241m64\u001b[39m, epochs\u001b[38;5;241m=\u001b[39m\u001b[38;5;241m5\u001b[39m,  \n\u001b[0;32m      6\u001b[0m                 validation_data\u001b[38;5;241m=\u001b[39m(x_val, y_val))\n",
      "\u001b[1;31mNameError\u001b[0m: name 'np' is not defined"
     ]
    }
   ],
   "source": [
    "#generate dummy validation data  \n",
    "x_val = np.random.random((100, timesteps, data_dim))  \n",
    "y_val = np.random.random((100, num_classes))  \n",
    "model.fit(x_train, y_train,   \n",
    "                batch_size=64, epochs=5,  \n",
    "                validation_data=(x_val, y_val))  "
   ]
  },
  {
   "cell_type": "code",
   "execution_count": null,
   "id": "3ee47c35",
   "metadata": {},
   "outputs": [],
   "source": []
  }
 ],
 "metadata": {
  "kernelspec": {
   "display_name": "Python 3 (ipykernel)",
   "language": "python",
   "name": "python3"
  },
  "language_info": {
   "codemirror_mode": {
    "name": "ipython",
    "version": 3
   },
   "file_extension": ".py",
   "mimetype": "text/x-python",
   "name": "python",
   "nbconvert_exporter": "python",
   "pygments_lexer": "ipython3",
   "version": "3.10.9"
  }
 },
 "nbformat": 4,
 "nbformat_minor": 5
}
